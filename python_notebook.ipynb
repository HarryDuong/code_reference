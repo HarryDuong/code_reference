{
 "cells": [
  {
   "cell_type": "code",
   "execution_count": 1,
   "metadata": {},
   "outputs": [],
   "source": [
    "# else function in for loop\n",
    "\n",
    "def find(seq, target):\n",
    "    \"\"\"\n",
    "    This to demonstrate the 'else' function in a for loop. \n",
    "    Using 'else' in for loop to do an action if there was\n",
    "    no break found in the loop.\n",
    "\n",
    "    \"\"\"\n",
    "    for i, value in enumerate(seq):\n",
    "        if value == target:\n",
    "            break\n",
    "    else:\n",
    "        return -1\n",
    "\n",
    "    return i"
   ]
  },
  {
   "cell_type": "markdown",
   "metadata": {},
   "source": [
    "## DICTIONARY AND DEFAULTDICT"
   ]
  },
  {
   "cell_type": "code",
   "execution_count": 3,
   "metadata": {},
   "outputs": [
    {
     "data": {
      "text/plain": [
       "{'a': 1, 'a3': 3, 'b': 4}"
      ]
     },
     "execution_count": 3,
     "metadata": {},
     "output_type": "execute_result"
    }
   ],
   "source": [
    "# LOOPING OVER DICTIONARY KEYS AND DELETE KEYS WITH CRITERIA\n",
    "\n",
    "d = {'a': 1, 'a3': 3, 'b': 4, 'r4':5}\n",
    "# instead of looping over each keys and delete items\n",
    "d = {k: d[k] for k in d if not k.startswith('r')}\n",
    "\n",
    "d"
   ]
  },
  {
   "cell_type": "code",
   "execution_count": 5,
   "metadata": {},
   "outputs": [
    {
     "data": {
      "text/plain": [
       "defaultdict(int, {'red': 3, 'green': 1, 'blue': 2})"
      ]
     },
     "execution_count": 5,
     "metadata": {},
     "output_type": "execute_result"
    }
   ],
   "source": [
    "# COUNTING WITH DICTIONARY\n",
    "\n",
    "from collections import defaultdict\n",
    "colors = ['red', 'green', 'blue', 'blue', 'red', 'red']\n",
    "d = {}\n",
    "\n",
    "# First method\n",
    "for color in colors:\n",
    "    d[color] = d.get(color, 0) + 1\n",
    "\n",
    "# Using default dict:\n",
    "d = defaultdict(int)\n",
    "\n",
    "for color in colors:\n",
    "    d[color] += 1  # If color is not exists yet,\n",
    "    \n",
    "d"
   ]
  },
  {
   "cell_type": "code",
   "execution_count": null,
   "metadata": {},
   "outputs": [],
   "source": [
    "# GROUPING WITH DICTIONARY\n",
    "colors = ['red', 'green', 'blue', 'blue', 'red', 'red']\n",
    "d = defaultdict(list)\n",
    "for color in colors:\n",
    "    key = len(color)\n",
    "    d[key].append(color)"
   ]
  },
  {
   "cell_type": "code",
   "execution_count": 6,
   "metadata": {},
   "outputs": [
    {
     "name": "stdout",
     "output_type": "stream",
     "text": [
      "person =  {'name': 'Phill', 'age': 22}\n",
      "Return Value =  ('salary', 3500.0)\n"
     ]
    }
   ],
   "source": [
    "# DICTIONARY POPITEM\n",
    "\n",
    "# returns an arbitrary element (key, value) pair from the dictionary\n",
    "# removes an arbitrary element (the same element which is returned) from the dictionary.\n",
    "\n",
    "person = {'name': 'Phill', 'age': 22, 'salary': 3500.0}\n",
    "\n",
    "result = person.popitem()\n",
    "print('person = ', person)\n",
    "print('Return Value = ', result)"
   ]
  },
  {
   "cell_type": "markdown",
   "metadata": {},
   "source": [
    "## DATE & TIME"
   ]
  },
  {
   "cell_type": "code",
   "execution_count": null,
   "metadata": {},
   "outputs": [],
   "source": [
    "# CONVERT TIMESTAMP FROM UTC TO OTHER TIMEZONE \n",
    "\n",
    "def convert_time_from_utc(timestamp, to_time_zone='Australia/Melbourne', output_format=None):\n",
    "    \"\"\"\n",
    "    Convert utc timestamp to other timestamp\n",
    "\n",
    "    Args:\n",
    "        timestamp: datetime object or string present datetime.\n",
    "                    if the input is string it must follow 'YYYY-MM-DD HH:MM:SS'\n",
    "\n",
    "        to_time_zone: to the desire timezone\n",
    "        output_format: 'datetime' or string format of time\n",
    "                    If set as None, then function return exactly the same type as input.\n",
    "\n",
    "    Returns:\n",
    "        datetime object or string presenting datetime in new time zone\n",
    "    \"\"\"\n",
    "\n",
    "    if output_format is None:\n",
    "        if type(timestamp) is str:\n",
    "            output_format = 'str'\n",
    "            timestamp = datetime.strptime(timestamp, '%Y-%m-%d %H:%M:%S')\n",
    "        elif (type(timestamp) is datetime) or (type(timestamp) is datetime.datetime):\n",
    "            output_format = 'datetime'\n",
    "        else:\n",
    "            raise ValueError(\n",
    "                'input timestamp must either string YYYY-MM-DD HH:MM:SS or a datetime object')\n",
    "\n",
    "    utc_tz = tz.gettz('UTC')\n",
    "    to_tz = tz.gettz(to_time_zone)\n",
    "\n",
    "    output = timestamp.replace(tzinfo=utc_tz)\n",
    "    output = output.astimezone(to_tz)\n",
    "\n",
    "    if output_format == 'datetime':\n",
    "        return output\n",
    "    elif output_format == 'str':\n",
    "        return datetime.strftime(output, '%Y-%m-%d %H:%M:%S')\n",
    "    else:\n",
    "        return datetime.strftime(output, output_format)"
   ]
  },
  {
   "cell_type": "markdown",
   "metadata": {},
   "source": [
    "### Timestamp"
   ]
  },
  {
   "cell_type": "code",
   "execution_count": 7,
   "metadata": {},
   "outputs": [
    {
     "data": {
      "text/plain": [
       "1565014626.918981"
      ]
     },
     "execution_count": 7,
     "metadata": {},
     "output_type": "execute_result"
    }
   ],
   "source": [
    "# EPOCH: timestamp from 1/1/1970\n",
    "import time\n",
    "\n",
    "time.time()"
   ]
  },
  {
   "cell_type": "code",
   "execution_count": 10,
   "metadata": {},
   "outputs": [
    {
     "data": {
      "text/plain": [
       "datetime.datetime(2019, 8, 6, 0, 18, 18, 455068)"
      ]
     },
     "execution_count": 10,
     "metadata": {},
     "output_type": "execute_result"
    }
   ],
   "source": [
    "from datetime import datetime\n",
    "dtnow = datetime.fromtimestamp(time.time())\n",
    "dtnow"
   ]
  },
  {
   "cell_type": "code",
   "execution_count": 13,
   "metadata": {},
   "outputs": [
    {
     "data": {
      "text/plain": [
       "(2019, 8, 0)"
      ]
     },
     "execution_count": 13,
     "metadata": {},
     "output_type": "execute_result"
    }
   ],
   "source": [
    "dtnow.year, dtnow.month, dtnow.hour"
   ]
  },
  {
   "cell_type": "markdown",
   "metadata": {},
   "source": [
    "### UTC"
   ]
  },
  {
   "cell_type": "code",
   "execution_count": 15,
   "metadata": {},
   "outputs": [
    {
     "data": {
      "text/plain": [
       "datetime.datetime(2019, 8, 5, 14, 19, 53, 799258, tzinfo=datetime.timezone.utc)"
      ]
     },
     "execution_count": 15,
     "metadata": {},
     "output_type": "execute_result"
    }
   ],
   "source": [
    "# GET TODAY DATE IN UTC TIME ZONE\n",
    "from datetime import datetime, timezone, timedelta\n",
    "\n",
    "datetime.now(timezone.utc)"
   ]
  },
  {
   "cell_type": "code",
   "execution_count": 16,
   "metadata": {},
   "outputs": [
    {
     "data": {
      "text/plain": [
       "datetime.datetime(2019, 8, 1, 0, 20, 12, 154164)"
      ]
     },
     "execution_count": 16,
     "metadata": {},
     "output_type": "execute_result"
    }
   ],
   "source": [
    "# 5 days before current time:\n",
    "datetime.today() + timedelta(days=-5)"
   ]
  },
  {
   "cell_type": "code",
   "execution_count": null,
   "metadata": {},
   "outputs": [],
   "source": []
  },
  {
   "cell_type": "code",
   "execution_count": null,
   "metadata": {},
   "outputs": [],
   "source": []
  }
 ],
 "metadata": {
  "kernelspec": {
   "display_name": "Python 3",
   "language": "python",
   "name": "python3"
  },
  "language_info": {
   "codemirror_mode": {
    "name": "ipython",
    "version": 3
   },
   "file_extension": ".py",
   "mimetype": "text/x-python",
   "name": "python",
   "nbconvert_exporter": "python",
   "pygments_lexer": "ipython3",
   "version": "3.7.1"
  }
 },
 "nbformat": 4,
 "nbformat_minor": 2
}
