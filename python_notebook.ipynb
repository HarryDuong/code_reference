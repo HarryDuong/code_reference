{
 "cells": [
  {
   "cell_type": "code",
   "execution_count": 1,
   "metadata": {},
   "outputs": [],
   "source": [
    "# else function in for loop\n",
    "\n",
    "def find(seq, target):\n",
    "    \"\"\"\n",
    "    This to demonstrate the 'else' function in a for loop. \n",
    "    Using 'else' in for loop to do an action if there was\n",
    "    no break found in the loop.\n",
    "\n",
    "    \"\"\"\n",
    "    for i, value in enumerate(seq):\n",
    "        if value == target:\n",
    "            break\n",
    "    else:\n",
    "        return -1\n",
    "\n",
    "    return i"
   ]
  },
  {
   "cell_type": "markdown",
   "metadata": {},
   "source": [
    "# DICTIONARY AND DEFAULTDICT"
   ]
  },
  {
   "cell_type": "code",
   "execution_count": 3,
   "metadata": {},
   "outputs": [
    {
     "data": {
      "text/plain": [
       "{'a': 1, 'a3': 3, 'b': 4}"
      ]
     },
     "execution_count": 3,
     "metadata": {},
     "output_type": "execute_result"
    }
   ],
   "source": [
    "# LOOPING OVER DICTIONARY KEYS AND DELETE KEYS WITH CRITERIA\n",
    "\n",
    "d = {'a': 1, 'a3': 3, 'b': 4, 'r4':5}\n",
    "# instead of looping over each keys and delete items\n",
    "d = {k: d[k] for k in d if not k.startswith('r')}\n",
    "\n",
    "d"
   ]
  },
  {
   "cell_type": "code",
   "execution_count": 5,
   "metadata": {},
   "outputs": [
    {
     "data": {
      "text/plain": [
       "defaultdict(int, {'red': 3, 'green': 1, 'blue': 2})"
      ]
     },
     "execution_count": 5,
     "metadata": {},
     "output_type": "execute_result"
    }
   ],
   "source": [
    "# COUNTING WITH DICTIONARY\n",
    "\n",
    "from collections import defaultdict\n",
    "colors = ['red', 'green', 'blue', 'blue', 'red', 'red']\n",
    "d = {}\n",
    "\n",
    "# First method\n",
    "for color in colors:\n",
    "    d[color] = d.get(color, 0) + 1\n",
    "\n",
    "# Using default dict:\n",
    "d = defaultdict(int)\n",
    "\n",
    "for color in colors:\n",
    "    d[color] += 1  # If color is not exists yet,\n",
    "    \n",
    "d"
   ]
  },
  {
   "cell_type": "code",
   "execution_count": null,
   "metadata": {},
   "outputs": [],
   "source": [
    "# GROUPING WITH DICTIONARY\n",
    "colors = ['red', 'green', 'blue', 'blue', 'red', 'red']\n",
    "d = defaultdict(list)\n",
    "for color in colors:\n",
    "    key = len(color)\n",
    "    d[key].append(color)"
   ]
  },
  {
   "cell_type": "code",
   "execution_count": 6,
   "metadata": {},
   "outputs": [
    {
     "name": "stdout",
     "output_type": "stream",
     "text": [
      "person =  {'name': 'Phill', 'age': 22}\n",
      "Return Value =  ('salary', 3500.0)\n"
     ]
    }
   ],
   "source": [
    "# DICTIONARY POPITEM\n",
    "\n",
    "# returns an arbitrary element (key, value) pair from the dictionary\n",
    "# removes an arbitrary element (the same element which is returned) from the dictionary.\n",
    "\n",
    "person = {'name': 'Phill', 'age': 22, 'salary': 3500.0}\n",
    "\n",
    "result = person.popitem()\n",
    "print('person = ', person)\n",
    "print('Return Value = ', result)"
   ]
  },
  {
   "cell_type": "markdown",
   "metadata": {},
   "source": [
    "## DATE & TIME"
   ]
  },
  {
   "cell_type": "code",
   "execution_count": null,
   "metadata": {},
   "outputs": [],
   "source": [
    "# CONVERT TIMESTAMP FROM UTC TO OTHER TIMEZONE \n",
    "\n",
    "def convert_time_from_utc(timestamp, to_time_zone='Australia/Melbourne', output_format=None):\n",
    "    \"\"\"\n",
    "    Convert utc timestamp to other timestamp\n",
    "\n",
    "    Args:\n",
    "        timestamp: datetime object or string present datetime.\n",
    "                    if the input is string it must follow 'YYYY-MM-DD HH:MM:SS'\n",
    "\n",
    "        to_time_zone: to the desire timezone\n",
    "        output_format: 'datetime' or string format of time\n",
    "                    If set as None, then function return exactly the same type as input.\n",
    "\n",
    "    Returns:\n",
    "        datetime object or string presenting datetime in new time zone\n",
    "    \"\"\"\n",
    "\n",
    "    if output_format is None:\n",
    "        if type(timestamp) is str:\n",
    "            output_format = 'str'\n",
    "            timestamp = datetime.strptime(timestamp, '%Y-%m-%d %H:%M:%S')\n",
    "        elif (type(timestamp) is datetime) or (type(timestamp) is datetime.datetime):\n",
    "            output_format = 'datetime'\n",
    "        else:\n",
    "            raise ValueError(\n",
    "                'input timestamp must either string YYYY-MM-DD HH:MM:SS or a datetime object')\n",
    "\n",
    "    utc_tz = tz.gettz('UTC')\n",
    "    to_tz = tz.gettz(to_time_zone)\n",
    "\n",
    "    output = timestamp.replace(tzinfo=utc_tz)\n",
    "    output = output.astimezone(to_tz)\n",
    "\n",
    "    if output_format == 'datetime':\n",
    "        return output\n",
    "    elif output_format == 'str':\n",
    "        return datetime.strftime(output, '%Y-%m-%d %H:%M:%S')\n",
    "    else:\n",
    "        return datetime.strftime(output, output_format)"
   ]
  },
  {
   "cell_type": "markdown",
   "metadata": {},
   "source": [
    "### Timestamp"
   ]
  },
  {
   "cell_type": "code",
   "execution_count": 7,
   "metadata": {},
   "outputs": [
    {
     "data": {
      "text/plain": [
       "1565014626.918981"
      ]
     },
     "execution_count": 7,
     "metadata": {},
     "output_type": "execute_result"
    }
   ],
   "source": [
    "# EPOCH: timestamp from 1/1/1970\n",
    "import time\n",
    "\n",
    "time.time()"
   ]
  },
  {
   "cell_type": "code",
   "execution_count": 10,
   "metadata": {},
   "outputs": [
    {
     "data": {
      "text/plain": [
       "datetime.datetime(2019, 8, 6, 0, 18, 18, 455068)"
      ]
     },
     "execution_count": 10,
     "metadata": {},
     "output_type": "execute_result"
    }
   ],
   "source": [
    "from datetime import datetime\n",
    "dtnow = datetime.fromtimestamp(time.time())\n",
    "dtnow"
   ]
  },
  {
   "cell_type": "code",
   "execution_count": 13,
   "metadata": {},
   "outputs": [
    {
     "data": {
      "text/plain": [
       "(2019, 8, 0)"
      ]
     },
     "execution_count": 13,
     "metadata": {},
     "output_type": "execute_result"
    }
   ],
   "source": [
    "dtnow.year, dtnow.month, dtnow.hour"
   ]
  },
  {
   "cell_type": "markdown",
   "metadata": {},
   "source": [
    "### UTC"
   ]
  },
  {
   "cell_type": "code",
   "execution_count": 15,
   "metadata": {},
   "outputs": [
    {
     "data": {
      "text/plain": [
       "datetime.datetime(2019, 8, 5, 14, 19, 53, 799258, tzinfo=datetime.timezone.utc)"
      ]
     },
     "execution_count": 15,
     "metadata": {},
     "output_type": "execute_result"
    }
   ],
   "source": [
    "# GET TODAY DATE IN UTC TIME ZONE\n",
    "from datetime import datetime, timezone, timedelta\n",
    "\n",
    "datetime.now(timezone.utc)"
   ]
  },
  {
   "cell_type": "code",
   "execution_count": 16,
   "metadata": {},
   "outputs": [
    {
     "data": {
      "text/plain": [
       "datetime.datetime(2019, 8, 1, 0, 20, 12, 154164)"
      ]
     },
     "execution_count": 16,
     "metadata": {},
     "output_type": "execute_result"
    }
   ],
   "source": [
    "# 5 days before current time:\n",
    "datetime.today() + timedelta(days=-5)"
   ]
  },
  {
   "cell_type": "markdown",
   "metadata": {},
   "source": [
    "# CLASS"
   ]
  },
  {
   "cell_type": "code",
   "execution_count": 91,
   "metadata": {},
   "outputs": [
    {
     "name": "stdout",
     "output_type": "stream",
     "text": [
      "- Create instances\n",
      "Harry\n",
      "{'first_name': 'Harry', 'last_name': 'Duong', 'pay': 100, 'email': 'Harry.Duong@company.com'}\n",
      "FName2\n",
      "{'first_name': 'FName2', 'last_name': 'LName2', 'pay': 200, 'email': 'FName2.LName2@company.com'}\n",
      "\n"
     ]
    }
   ],
   "source": [
    "# https://www.youtube.com/watch?v=ZDa-Z5JzLYM\n",
    "# Create a class\n",
    "import datetime\n",
    "class Employee:\n",
    "    \n",
    "    # Instance variable\n",
    "    raise_pct = 1.04\n",
    "    \n",
    "    # Class variable\n",
    "    num_of_employee = 0\n",
    "    \n",
    "    # Contructor\n",
    "    def __init__(self, first_name, last_name, pay):\n",
    "        self.first_name = first_name\n",
    "        self.last_name = last_name\n",
    "        self.pay = pay\n",
    "        self.email = f'{first_name}.{last_name}@company.com'\n",
    "        \n",
    "        Employee.num_of_employee +=1 # ==> Note that we want this value to be available \n",
    "                                     #     and be the same to all instances, this value will increase\n",
    "                                     #     when a new instance is created\n",
    "        \n",
    "    \n",
    "    # Create a method, a class method will automatically pass the instance itself to \n",
    "    # the method, however, you must have at least one variable to accept it. Use self.\n",
    "    def fullname(self):\n",
    "        return f'{self.first_name} {self.last_name}'\n",
    "    \n",
    "    def apply_raise(self):\n",
    "        self.pay = int(self.pay * self.raise_pct)\n",
    "        \n",
    "        # Note the above, you can't just use raise_pct, you must get it \n",
    "        # from self.raise_pct ==> the variable from that instance\n",
    "        # The value also return if you use Employee.raise_pct. However, this is from the \n",
    "        # original class variable, so if you have the value of raise_pct changed for one\n",
    "        # particular instance, you won't have that change applied to apply_raise function.\n",
    "\n",
    "        \n",
    "    @classmethod\n",
    "    def set_raise_pct(cls, pct):\n",
    "        \"\"\"\n",
    "        Note that unlike instance method, the class method will receive the first variable as \n",
    "        the Class instead of the instance self.\n",
    "        \"\"\"\n",
    "        cls.raise_pct = pct\n",
    "        # This code will change the raise_pct for the original class\n",
    "        # for any instance that inherited value from the original class, \n",
    "        # it will have the new value same as the updated original value.\n",
    "        # For any instance that initiate the value itself, the updated value won't pass over.\n",
    "        \n",
    "    @classmethod\n",
    "    def from_string(cls, emp_string):\n",
    "        \"\"\"\n",
    "        This demontrate how to use class method as an alternative contructor\n",
    "        \"\"\"\n",
    "        first_name, last_name, pay = emp_string.split('-')\n",
    "        \n",
    "        # you see the below using that same class and passing first_name, last_name, pay\n",
    "        # to the class iself and starting the __init__ function.\n",
    "        # if we don't have that alternative contructor,\n",
    "        # we would have to calculate the first_name, last_name, pay outside of the class everytime\n",
    "        # we want to create an instance.\n",
    "        return cls(first_name, last_name, pay)\n",
    "    \n",
    "    @staticmethod\n",
    "    def current_day():\n",
    "        \"\"\"\n",
    "        Note that staticmethod doesn't receive the self or cls variable automatically passed to it\n",
    "        \"\"\"\n",
    "        return datetime.datetime.today().strftime('%Y-%m-%d')\n",
    "    \n",
    "        \n",
    "# Create instances\n",
    "print('- Create instances')\n",
    "emp_1 = Employee('Harry','Duong',100)\n",
    "print(emp_1.first_name)\n",
    "print(emp_1.__dict__)\n",
    "\n",
    "emp_2 = Employee('FName2','LName2',200)\n",
    "print(emp_2.first_name)\n",
    "print(emp_2.__dict__)\n",
    "print()"
   ]
  },
  {
   "cell_type": "code",
   "execution_count": 92,
   "metadata": {},
   "outputs": [
    {
     "name": "stdout",
     "output_type": "stream",
     "text": [
      "- Using instance method\n",
      "Harry Duong\n"
     ]
    }
   ],
   "source": [
    "# using method fullname\n",
    "print('- Using instance method')\n",
    "print(emp_1.fullname())"
   ]
  },
  {
   "cell_type": "code",
   "execution_count": 93,
   "metadata": {},
   "outputs": [
    {
     "name": "stdout",
     "output_type": "stream",
     "text": [
      "- Using apply_raise method\n",
      "original pay: $100\n",
      "after raise : $104\n"
     ]
    }
   ],
   "source": [
    "# apply raise:\n",
    "print('- Using apply_raise method')\n",
    "print(f'original pay: ${emp_1.pay}')\n",
    "emp_1.apply_raise()\n",
    "print(f'after raise : ${emp_1.pay}')"
   ]
  },
  {
   "cell_type": "code",
   "execution_count": 94,
   "metadata": {},
   "outputs": [
    {
     "name": "stdout",
     "output_type": "stream",
     "text": [
      "- Class variable\n",
      "Original raise_pct: 1.04\n",
      "emp_1 raise_pct   : 1.07 ==> Note that raise_pct only changes for this instance\n",
      "emp_2 raise_pct   : 1.04\n"
     ]
    }
   ],
   "source": [
    "# Change the class variable for one instance\n",
    "print('- Class variable')\n",
    "emp_1.raise_pct = 1.07\n",
    "\n",
    "print(f'Original raise_pct: {Employee.raise_pct}')\n",
    "print(f'emp_1 raise_pct   : {emp_1.raise_pct} ==> Note that raise_pct only changes for this instance')\n",
    "print(f'emp_2 raise_pct   : {emp_2.raise_pct}')"
   ]
  },
  {
   "cell_type": "code",
   "execution_count": 95,
   "metadata": {},
   "outputs": [
    {
     "name": "stdout",
     "output_type": "stream",
     "text": [
      "New Class raise_pct   : 1.05\n",
      "emp_1 raise_pct       : 1.07\n",
      "emp_2 raise_pct       : 1.05 ==> Note that its inherited from the original class\n"
     ]
    }
   ],
   "source": [
    "# Explain:\n",
    "# Before we create emp_1.raise_pct, this variable is inherited from the original class Employee\n",
    "# however, up on setting emp_1.raise_pct = 1.07, this value is created inside this instance, nolonger inherited from\n",
    "# the original class\n",
    "\n",
    "# The example below we can see that if we change this value in the original class, then emp_2.raise_pct is followed,\n",
    "# but not the emp_1\n",
    "\n",
    "Employee.raise_pct = 1.05\n",
    "\n",
    "print(f'New Class raise_pct   : {Employee.raise_pct}')\n",
    "print(f'emp_1 raise_pct       : {emp_1.raise_pct}')\n",
    "print(f'emp_2 raise_pct       : {emp_2.raise_pct} ==> Note that it''s inherited from the original class')"
   ]
  },
  {
   "cell_type": "code",
   "execution_count": 96,
   "metadata": {},
   "outputs": [
    {
     "data": {
      "text/plain": [
       "2"
      ]
     },
     "execution_count": 96,
     "metadata": {},
     "output_type": "execute_result"
    }
   ],
   "source": [
    "# Class instance:\n",
    "Employee.num_of_employee"
   ]
  },
  {
   "cell_type": "code",
   "execution_count": 97,
   "metadata": {},
   "outputs": [
    {
     "data": {
      "text/plain": [
       "{'first_name': 'User3',\n",
       " 'last_name': 'LName3',\n",
       " 'pay': '300',\n",
       " 'email': 'User3.LName3@company.com'}"
      ]
     },
     "execution_count": 97,
     "metadata": {},
     "output_type": "execute_result"
    }
   ],
   "source": [
    "# Using class method for alternative contructor\n",
    "emp_3_string = 'User3-LName3-300'\n",
    "emp_3 = Employee.from_string(emp_3_string)\n",
    "emp_3.__dict__"
   ]
  },
  {
   "cell_type": "code",
   "execution_count": 98,
   "metadata": {},
   "outputs": [
    {
     "data": {
      "text/plain": [
       "'2019-08-18'"
      ]
     },
     "execution_count": 98,
     "metadata": {},
     "output_type": "execute_result"
    }
   ],
   "source": [
    "# Static method\n",
    "emp_3.current_day()"
   ]
  },
  {
   "cell_type": "markdown",
   "metadata": {},
   "source": [
    "# DATAFRAME"
   ]
  },
  {
   "cell_type": "markdown",
   "metadata": {},
   "source": [
    "### Index"
   ]
  },
  {
   "cell_type": "code",
   "execution_count": 17,
   "metadata": {},
   "outputs": [
    {
     "data": {
      "text/html": [
       "<div>\n",
       "<style scoped>\n",
       "    .dataframe tbody tr th:only-of-type {\n",
       "        vertical-align: middle;\n",
       "    }\n",
       "\n",
       "    .dataframe tbody tr th {\n",
       "        vertical-align: top;\n",
       "    }\n",
       "\n",
       "    .dataframe thead th {\n",
       "        text-align: right;\n",
       "    }\n",
       "</style>\n",
       "<table border=\"1\" class=\"dataframe\">\n",
       "  <thead>\n",
       "    <tr style=\"text-align: right;\">\n",
       "      <th></th>\n",
       "      <th></th>\n",
       "      <th>Item Purchased</th>\n",
       "      <th>Cost</th>\n",
       "    </tr>\n",
       "    <tr>\n",
       "      <th>Location</th>\n",
       "      <th>Name</th>\n",
       "      <th></th>\n",
       "      <th></th>\n",
       "    </tr>\n",
       "  </thead>\n",
       "  <tbody>\n",
       "    <tr>\n",
       "      <th rowspan=\"2\" valign=\"top\">Store 1</th>\n",
       "      <th>Chris</th>\n",
       "      <td>Dog Food</td>\n",
       "      <td>22.5</td>\n",
       "    </tr>\n",
       "    <tr>\n",
       "      <th>Kevyn</th>\n",
       "      <td>Kitty Litter</td>\n",
       "      <td>2.5</td>\n",
       "    </tr>\n",
       "    <tr>\n",
       "      <th rowspan=\"2\" valign=\"top\">Store 2</th>\n",
       "      <th>Vinod</th>\n",
       "      <td>Bird Seed</td>\n",
       "      <td>5.0</td>\n",
       "    </tr>\n",
       "    <tr>\n",
       "      <th>Kevyn</th>\n",
       "      <td>Kitty Food</td>\n",
       "      <td>3.0</td>\n",
       "    </tr>\n",
       "  </tbody>\n",
       "</table>\n",
       "</div>"
      ],
      "text/plain": [
       "               Item Purchased  Cost\n",
       "Location Name                      \n",
       "Store 1  Chris       Dog Food  22.5\n",
       "         Kevyn   Kitty Litter   2.5\n",
       "Store 2  Vinod      Bird Seed   5.0\n",
       "         Kevyn     Kitty Food   3.0"
      ]
     },
     "execution_count": 17,
     "metadata": {},
     "output_type": "execute_result"
    }
   ],
   "source": [
    "# SET MULTI-LEVEL INDEXING\n",
    "\n",
    "import pandas as pd\n",
    "\n",
    "purchase_1 = pd.Series({'Name': 'Chris',\n",
    "                        'Item Purchased': 'Dog Food',\n",
    "                        'Cost': 22.50})\n",
    "purchase_2 = pd.Series({'Name': 'Kevyn',\n",
    "                        'Item Purchased': 'Kitty Litter',\n",
    "                        'Cost': 2.50})\n",
    "purchase_3 = pd.Series({'Name': 'Vinod',\n",
    "                        'Item Purchased': 'Bird Seed',\n",
    "                        'Cost': 5.00})\n",
    "\n",
    "df = pd.DataFrame([purchase_1, purchase_2, purchase_3], index=['Store 1', 'Store 1', 'Store 2'])\n",
    "\n",
    "# Set multi-level index\n",
    "df = df.set_index([df.index, 'Name'])\n",
    "\n",
    "# Rename the index\n",
    "df.index.names = ['Location', 'Name']\n",
    "\n",
    "# Demonstrate adding record\n",
    "df = df.append(pd.Series(data={'Cost': 3.00, 'Item Purchased': 'Kitty Food'}, name=('Store 2', 'Kevyn')))\n",
    "df\n"
   ]
  },
  {
   "cell_type": "code",
   "execution_count": 20,
   "metadata": {},
   "outputs": [
    {
     "data": {
      "text/plain": [
       "Item Purchased    Dog Food\n",
       "Cost                  22.5\n",
       "Name: (Store 1, Chris), dtype: object"
      ]
     },
     "execution_count": 20,
     "metadata": {},
     "output_type": "execute_result"
    }
   ],
   "source": [
    "df.loc['Store 1','Chris']"
   ]
  },
  {
   "cell_type": "markdown",
   "metadata": {},
   "source": [
    "### Index of Maximum value in a column"
   ]
  },
  {
   "cell_type": "code",
   "execution_count": null,
   "metadata": {},
   "outputs": [],
   "source": [
    "df['col'].idxmax()"
   ]
  },
  {
   "cell_type": "markdown",
   "metadata": {},
   "source": [
    "### Method Chaining\n",
    "\n",
    "https://tomaugspurger.github.io/method-chaining.html\n",
    "\n",
    "https://www.datacamp.com/community/tutorials/pandas-idiomatic\n",
    "\n",
    "https://towardsdatascience.com/the-unreasonable-effectiveness-of-method-chaining-in-pandas-15c2109e3c69\n",
    "\n",
    "<p>Method chaining, where you call methods on an object one after another, is in vogue at the moment.\n",
    "It's always been a style of programming that's been possible with pandas,\n",
    "and over the past several releases, we've added methods that enable even more chaining.</p>\n",
    "\n",
    "<ul>\n",
    "<li><a href=\"http://pandas.pydata.org/pandas-docs/stable/generated/pandas.DataFrame.assign.html\">assign</a> (0.16.0): For adding new columns to a DataFrame in a chain (inspired by dplyr's <code>mutate</code>)</li>\n",
    "<li><a href=\"http://pandas.pydata.org/pandas-docs/stable/generated/pandas.DataFrame.pipe.html\">pipe</a> (0.16.2): For including user-defined methods in method chains.</li>\n",
    "<li><a href=\"http://pandas.pydata.org/pandas-docs/version/0.18.0/whatsnew.html#changes-to-rename\">rename</a> (0.18.0): For altering axis names (in additional to changing the actual labels as before).</li>\n",
    "<li><a href=\"http://pandas.pydata.org/pandas-docs/version/0.18.0/whatsnew.html#window-functions-are-now-methods\">Window methods</a> (0.18): Took the top-level <code>pd.rolling_*</code> and <code>pd.expanding_*</code> functions and made them <code>NDFrame</code> methods with a <code>groupby</code>-like API.</li>\n",
    "<li><a href=\"http://pandas.pydata.org/pandas-docs/version/0.18.0/whatsnew.html#resample-api\">Resample</a> (0.18.0) Added a new <code>groupby</code>-like API</li>\n",
    "<li><a href=\"https://github.com/pydata/pandas/pull/12539\">.where/mask/Indexers accept Callables</a> (0.18.1): In the next release you'll be able to pass a callable to the indexing methods, to be evaluated within the DataFrame's context (like <code>.query</code>, but with code instead of strings).</li>\n",
    "</ul>\n",
    "<p>My scripts will typically start off with large-ish chain at the start getting things into a manageable state.\n",
    "It's good to have the bulk of your munging done with right away so you can start to do Science™:</p>"
   ]
  },
  {
   "cell_type": "code",
   "execution_count": null,
   "metadata": {},
   "outputs": [],
   "source": [
    "\n",
    "(\n",
    "census_df.query(\"SUMLEV ==50\") # Get State level summary\n",
    "         .sort_values(['CENSUS2010POP'], ascending = False) # Sort each county by population desc\n",
    "         .groupby('STNAME') # Group by State name to get the top 3 counties\n",
    "         .head(3)\n",
    "         .groupby('STNAME') # Group by State name to get total population of each State by the top 3 counties\n",
    "         .sum()\n",
    "         .sort_values(['CENSUS2010POP'], ascending = False) # Order state by population\n",
    "         .head(3)\n",
    "         .index # Return the name of the states (as the index now)\n",
    ")"
   ]
  },
  {
   "cell_type": "code",
   "execution_count": null,
   "metadata": {},
   "outputs": [],
   "source": [
    "# For this example, note the `assign` function and `filter` function\n",
    "# assign to create new column\n",
    "# filter in this case to select specific columns\n",
    "\n",
    "pop_cols = ['POPESTIMATE2010','POPESTIMATE2011','POPESTIMATE2012'\n",
    "            ,'POPESTIMATE2013','POPESTIMATE2014','POPESTIMATE2015']\n",
    "county = (census_df.query(\"SUMLEV ==50\") # Filter for county summary\n",
    "                 .set_index(['CTYNAME']) # Set county name as index\n",
    "                 .filter(pop_cols) # Filter the dataframe to only population records\n",
    "                 .assign(min_pop = lambda r: r.min(axis=1) # Calc min population column\n",
    "                        ,max_pop = lambda r: r.max(axis=1))# Calc max population column\n",
    "                 .assign(pop_change = lambda r: r['max_pop'] - r['min_pop'])\n",
    "                 .filter(['pop_change'])\n",
    "                 .idxmax()\n",
    "            )[0]"
   ]
  },
  {
   "cell_type": "markdown",
   "metadata": {},
   "source": [
    "### Apply"
   ]
  },
  {
   "cell_type": "code",
   "execution_count": 35,
   "metadata": {},
   "outputs": [
    {
     "data": {
      "text/html": [
       "<div>\n",
       "<style scoped>\n",
       "    .dataframe tbody tr th:only-of-type {\n",
       "        vertical-align: middle;\n",
       "    }\n",
       "\n",
       "    .dataframe tbody tr th {\n",
       "        vertical-align: top;\n",
       "    }\n",
       "\n",
       "    .dataframe thead th {\n",
       "        text-align: right;\n",
       "    }\n",
       "</style>\n",
       "<table border=\"1\" class=\"dataframe\">\n",
       "  <thead>\n",
       "    <tr style=\"text-align: right;\">\n",
       "      <th></th>\n",
       "      <th>min</th>\n",
       "      <th>max</th>\n",
       "    </tr>\n",
       "  </thead>\n",
       "  <tbody>\n",
       "    <tr>\n",
       "      <th>0</th>\n",
       "      <td>3.5</td>\n",
       "      <td>5.1</td>\n",
       "    </tr>\n",
       "    <tr>\n",
       "      <th>1</th>\n",
       "      <td>3.0</td>\n",
       "      <td>4.9</td>\n",
       "    </tr>\n",
       "    <tr>\n",
       "      <th>2</th>\n",
       "      <td>3.2</td>\n",
       "      <td>4.7</td>\n",
       "    </tr>\n",
       "    <tr>\n",
       "      <th>3</th>\n",
       "      <td>3.1</td>\n",
       "      <td>4.6</td>\n",
       "    </tr>\n",
       "    <tr>\n",
       "      <th>4</th>\n",
       "      <td>3.6</td>\n",
       "      <td>5.0</td>\n",
       "    </tr>\n",
       "  </tbody>\n",
       "</table>\n",
       "</div>"
      ],
      "text/plain": [
       "   min  max\n",
       "0  3.5  5.1\n",
       "1  3.0  4.9\n",
       "2  3.2  4.7\n",
       "3  3.1  4.6\n",
       "4  3.6  5.0"
      ]
     },
     "execution_count": 35,
     "metadata": {},
     "output_type": "execute_result"
    }
   ],
   "source": [
    "# This demonstrate the apply function for row wise calculation\n",
    "\n",
    "import numpy as np\n",
    "import seaborn as sns\n",
    "\n",
    "df = sns.load_dataset('iris')\n",
    "\n",
    "def min_max(row):\n",
    "    data = row[['sepal_length', 'sepal_width']] \n",
    "    return pd.Series({'min':np.min(data), 'max':np.max(data)})\n",
    "\n",
    "df.apply(min_max, axis=1).head() # Note the axis=1 for row"
   ]
  },
  {
   "cell_type": "markdown",
   "metadata": {},
   "source": [
    "### Groupby"
   ]
  },
  {
   "cell_type": "code",
   "execution_count": 42,
   "metadata": {},
   "outputs": [
    {
     "name": "stdout",
     "output_type": "stream",
     "text": [
      "   year     month  passengers\n",
      "0  1949   January         112\n",
      "1  1949  February         118\n",
      "2  1949     March         132\n",
      "3  1949     April         129\n",
      "4  1949       May         121\n",
      "1949 - average passenders num: 126.66666666666667\n",
      "1950 - average passenders num: 139.66666666666666\n",
      "1951 - average passenders num: 170.16666666666666\n",
      "1952 - average passenders num: 197.0\n",
      "1953 - average passenders num: 225.0\n",
      "1954 - average passenders num: 238.91666666666666\n",
      "1955 - average passenders num: 284.0\n",
      "1956 - average passenders num: 328.25\n",
      "1957 - average passenders num: 368.4166666666667\n",
      "1958 - average passenders num: 381.0\n",
      "1959 - average passenders num: 428.3333333333333\n",
      "1960 - average passenders num: 476.1666666666667\n"
     ]
    }
   ],
   "source": [
    "\n",
    "# Loop with groupby:\n",
    "\n",
    "df = sns.load_dataset('flights')\n",
    "print(df.head())\n",
    "\n",
    "for group, frame in df.groupby('year'):\n",
    "    avg = np.average(frame['passengers'])\n",
    "    print(f'{group} - average passenders num: {avg}')"
   ]
  },
  {
   "cell_type": "code",
   "execution_count": 45,
   "metadata": {},
   "outputs": [
    {
     "data": {
      "text/html": [
       "<div>\n",
       "<style scoped>\n",
       "    .dataframe tbody tr th:only-of-type {\n",
       "        vertical-align: middle;\n",
       "    }\n",
       "\n",
       "    .dataframe tbody tr th {\n",
       "        vertical-align: top;\n",
       "    }\n",
       "\n",
       "    .dataframe thead th {\n",
       "        text-align: right;\n",
       "    }\n",
       "</style>\n",
       "<table border=\"1\" class=\"dataframe\">\n",
       "  <thead>\n",
       "    <tr style=\"text-align: right;\">\n",
       "      <th></th>\n",
       "      <th>passengers</th>\n",
       "    </tr>\n",
       "    <tr>\n",
       "      <th>year</th>\n",
       "      <th></th>\n",
       "    </tr>\n",
       "  </thead>\n",
       "  <tbody>\n",
       "    <tr>\n",
       "      <th>1949</th>\n",
       "      <td>126.666667</td>\n",
       "    </tr>\n",
       "    <tr>\n",
       "      <th>1950</th>\n",
       "      <td>139.666667</td>\n",
       "    </tr>\n",
       "    <tr>\n",
       "      <th>1951</th>\n",
       "      <td>170.166667</td>\n",
       "    </tr>\n",
       "    <tr>\n",
       "      <th>1952</th>\n",
       "      <td>197.000000</td>\n",
       "    </tr>\n",
       "    <tr>\n",
       "      <th>1953</th>\n",
       "      <td>225.000000</td>\n",
       "    </tr>\n",
       "    <tr>\n",
       "      <th>1954</th>\n",
       "      <td>238.916667</td>\n",
       "    </tr>\n",
       "    <tr>\n",
       "      <th>1955</th>\n",
       "      <td>284.000000</td>\n",
       "    </tr>\n",
       "    <tr>\n",
       "      <th>1956</th>\n",
       "      <td>328.250000</td>\n",
       "    </tr>\n",
       "    <tr>\n",
       "      <th>1957</th>\n",
       "      <td>368.416667</td>\n",
       "    </tr>\n",
       "    <tr>\n",
       "      <th>1958</th>\n",
       "      <td>381.000000</td>\n",
       "    </tr>\n",
       "    <tr>\n",
       "      <th>1959</th>\n",
       "      <td>428.333333</td>\n",
       "    </tr>\n",
       "    <tr>\n",
       "      <th>1960</th>\n",
       "      <td>476.166667</td>\n",
       "    </tr>\n",
       "  </tbody>\n",
       "</table>\n",
       "</div>"
      ],
      "text/plain": [
       "      passengers\n",
       "year            \n",
       "1949  126.666667\n",
       "1950  139.666667\n",
       "1951  170.166667\n",
       "1952  197.000000\n",
       "1953  225.000000\n",
       "1954  238.916667\n",
       "1955  284.000000\n",
       "1956  328.250000\n",
       "1957  368.416667\n",
       "1958  381.000000\n",
       "1959  428.333333\n",
       "1960  476.166667"
      ]
     },
     "execution_count": 45,
     "metadata": {},
     "output_type": "execute_result"
    }
   ],
   "source": [
    "df.groupby('year').mean()"
   ]
  },
  {
   "cell_type": "code",
   "execution_count": 79,
   "metadata": {},
   "outputs": [],
   "source": [
    "# You can pass a function to groupby:\n",
    "# Need example here\n",
    "\n"
   ]
  },
  {
   "cell_type": "code",
   "execution_count": 81,
   "metadata": {},
   "outputs": [
    {
     "data": {
      "text/html": [
       "<div>\n",
       "<style scoped>\n",
       "    .dataframe tbody tr th:only-of-type {\n",
       "        vertical-align: middle;\n",
       "    }\n",
       "\n",
       "    .dataframe tbody tr th {\n",
       "        vertical-align: top;\n",
       "    }\n",
       "\n",
       "    .dataframe thead th {\n",
       "        text-align: right;\n",
       "    }\n",
       "</style>\n",
       "<table border=\"1\" class=\"dataframe\">\n",
       "  <thead>\n",
       "    <tr style=\"text-align: right;\">\n",
       "      <th></th>\n",
       "      <th>passengers</th>\n",
       "    </tr>\n",
       "    <tr>\n",
       "      <th>year</th>\n",
       "      <th></th>\n",
       "    </tr>\n",
       "  </thead>\n",
       "  <tbody>\n",
       "    <tr>\n",
       "      <th>1949</th>\n",
       "      <td>1520</td>\n",
       "    </tr>\n",
       "    <tr>\n",
       "      <th>1950</th>\n",
       "      <td>1676</td>\n",
       "    </tr>\n",
       "    <tr>\n",
       "      <th>1951</th>\n",
       "      <td>2042</td>\n",
       "    </tr>\n",
       "    <tr>\n",
       "      <th>1952</th>\n",
       "      <td>2364</td>\n",
       "    </tr>\n",
       "    <tr>\n",
       "      <th>1953</th>\n",
       "      <td>2700</td>\n",
       "    </tr>\n",
       "    <tr>\n",
       "      <th>1954</th>\n",
       "      <td>2867</td>\n",
       "    </tr>\n",
       "    <tr>\n",
       "      <th>1955</th>\n",
       "      <td>3408</td>\n",
       "    </tr>\n",
       "    <tr>\n",
       "      <th>1956</th>\n",
       "      <td>3939</td>\n",
       "    </tr>\n",
       "    <tr>\n",
       "      <th>1957</th>\n",
       "      <td>4421</td>\n",
       "    </tr>\n",
       "    <tr>\n",
       "      <th>1958</th>\n",
       "      <td>4572</td>\n",
       "    </tr>\n",
       "    <tr>\n",
       "      <th>1959</th>\n",
       "      <td>5140</td>\n",
       "    </tr>\n",
       "    <tr>\n",
       "      <th>1960</th>\n",
       "      <td>5714</td>\n",
       "    </tr>\n",
       "  </tbody>\n",
       "</table>\n",
       "</div>"
      ],
      "text/plain": [
       "      passengers\n",
       "year            \n",
       "1949        1520\n",
       "1950        1676\n",
       "1951        2042\n",
       "1952        2364\n",
       "1953        2700\n",
       "1954        2867\n",
       "1955        3408\n",
       "1956        3939\n",
       "1957        4421\n",
       "1958        4572\n",
       "1959        5140\n",
       "1960        5714"
      ]
     },
     "execution_count": 81,
     "metadata": {},
     "output_type": "execute_result"
    }
   ],
   "source": [
    "# Group by and aggregation function:\n",
    "\n",
    "\n",
    "df = sns.load_dataset('flights')\n",
    "df.groupby('year').agg({'passengers':np.sum})"
   ]
  },
  {
   "cell_type": "code",
   "execution_count": null,
   "metadata": {},
   "outputs": [],
   "source": [
    "#                        Category  Quantity  Weight (oz.)\n",
    "# Item                                                   \n",
    "# Pack                       Pack         1          33.0\n",
    "# Tent                    Shelter         1          80.0\n",
    "# Sleeping Pad              Sleep         1          27.0\n",
    "# Sleeping Bag              Sleep         1          20.0\n",
    "# Toothbrush/Toothpaste    Health         1           2.0\n",
    "# Sunscreen                Health         1           5.0\n",
    "# Medical Kit              Health         1           3.7\n",
    "# Spoon                   Kitchen         1           0.7\n",
    "# Stove                   Kitchen         1          20.0\n",
    "# Water Filter            Kitchen         1           1.8\n",
    "# Water Bottles           Kitchen         2          35.0\n",
    "# Pack Liner              Utility         1           1.0\n",
    "# Stuff Sack              Utility         1           1.0\n",
    "# Trekking Poles          Utility         1          16.0\n",
    "# Rain Poncho            Clothing         1           6.0\n",
    "# Shoes                  Clothing         1          12.0\n",
    "# Hat                    Clothing         1           2.5\n",
    "\n",
    "df.groupby('Category').apply(lambda df,a,b: sum(df[a] * df[b]), 'Weight (oz.)', 'Quantity')\n",
    "\n",
    "# First method:\n",
    "# Your code here\n",
    "df['total weight'] = df['Quantity'] * df['Weight (oz.)']\n",
    "\n",
    "df.groupby('Category').agg({'total weight':np.sum})\n",
    "\n",
    "# Second Method using lambda function:\n",
    "df.groupby('Category').apply(lambda df,a,b: sum(df[a] * df[b]), 'Weight (oz.)', 'Quantity')"
   ]
  },
  {
   "cell_type": "code",
   "execution_count": 86,
   "metadata": {},
   "outputs": [
    {
     "name": "stderr",
     "output_type": "stream",
     "text": [
      "/anaconda3/lib/python3.7/site-packages/ipykernel_launcher.py:7: FutureWarning: using a dict on a Series for aggregation\n",
      "is deprecated and will be removed in a future version\n",
      "  import sys\n"
     ]
    },
    {
     "data": {
      "text/html": [
       "<div>\n",
       "<style scoped>\n",
       "    .dataframe tbody tr th:only-of-type {\n",
       "        vertical-align: middle;\n",
       "    }\n",
       "\n",
       "    .dataframe tbody tr th {\n",
       "        vertical-align: top;\n",
       "    }\n",
       "\n",
       "    .dataframe thead th {\n",
       "        text-align: right;\n",
       "    }\n",
       "</style>\n",
       "<table border=\"1\" class=\"dataframe\">\n",
       "  <thead>\n",
       "    <tr style=\"text-align: right;\">\n",
       "      <th></th>\n",
       "      <th>avg_carat</th>\n",
       "      <th>min_carat</th>\n",
       "    </tr>\n",
       "    <tr>\n",
       "      <th>cut</th>\n",
       "      <th></th>\n",
       "      <th></th>\n",
       "    </tr>\n",
       "  </thead>\n",
       "  <tbody>\n",
       "    <tr>\n",
       "      <th>Fair</th>\n",
       "      <td>1.046137</td>\n",
       "      <td>1.046137</td>\n",
       "    </tr>\n",
       "    <tr>\n",
       "      <th>Good</th>\n",
       "      <td>0.849185</td>\n",
       "      <td>0.849185</td>\n",
       "    </tr>\n",
       "    <tr>\n",
       "      <th>Ideal</th>\n",
       "      <td>0.702837</td>\n",
       "      <td>0.702837</td>\n",
       "    </tr>\n",
       "    <tr>\n",
       "      <th>Premium</th>\n",
       "      <td>0.891955</td>\n",
       "      <td>0.891955</td>\n",
       "    </tr>\n",
       "    <tr>\n",
       "      <th>Very Good</th>\n",
       "      <td>0.806381</td>\n",
       "      <td>0.806381</td>\n",
       "    </tr>\n",
       "  </tbody>\n",
       "</table>\n",
       "</div>"
      ],
      "text/plain": [
       "           avg_carat  min_carat\n",
       "cut                            \n",
       "Fair        1.046137   1.046137\n",
       "Good        0.849185   0.849185\n",
       "Ideal       0.702837   0.702837\n",
       "Premium     0.891955   0.891955\n",
       "Very Good   0.806381   0.806381"
      ]
     },
     "execution_count": 86,
     "metadata": {},
     "output_type": "execute_result"
    }
   ],
   "source": [
    "df = sns.load_dataset('diamonds')\n",
    "\n",
    "# Group by using multiple aggregation on 1 column input. \n",
    "# This is series group by\n",
    "(\n",
    "    df.set_index('cut')\n",
    "    .groupby(level=0)\n",
    "    ['carat']\n",
    "    .agg({'avg_carat':np.average, 'min_carat':np.mean})\n",
    ")"
   ]
  },
  {
   "cell_type": "code",
   "execution_count": 88,
   "metadata": {},
   "outputs": [
    {
     "name": "stderr",
     "output_type": "stream",
     "text": [
      "/anaconda3/lib/python3.7/site-packages/pandas/core/groupby/groupby.py:4656: FutureWarning: using a dict with renaming is deprecated and will be removed in a future version\n",
      "  return super(DataFrameGroupBy, self).aggregate(arg, *args, **kwargs)\n"
     ]
    },
    {
     "data": {
      "text/html": [
       "<div>\n",
       "<style scoped>\n",
       "    .dataframe tbody tr th:only-of-type {\n",
       "        vertical-align: middle;\n",
       "    }\n",
       "\n",
       "    .dataframe tbody tr th {\n",
       "        vertical-align: top;\n",
       "    }\n",
       "\n",
       "    .dataframe thead tr th {\n",
       "        text-align: left;\n",
       "    }\n",
       "\n",
       "    .dataframe thead tr:last-of-type th {\n",
       "        text-align: right;\n",
       "    }\n",
       "</style>\n",
       "<table border=\"1\" class=\"dataframe\">\n",
       "  <thead>\n",
       "    <tr>\n",
       "      <th></th>\n",
       "      <th colspan=\"2\" halign=\"left\">avg</th>\n",
       "      <th colspan=\"2\" halign=\"left\">min</th>\n",
       "    </tr>\n",
       "    <tr>\n",
       "      <th></th>\n",
       "      <th>carat</th>\n",
       "      <th>price</th>\n",
       "      <th>carat</th>\n",
       "      <th>price</th>\n",
       "    </tr>\n",
       "    <tr>\n",
       "      <th>cut</th>\n",
       "      <th></th>\n",
       "      <th></th>\n",
       "      <th></th>\n",
       "      <th></th>\n",
       "    </tr>\n",
       "  </thead>\n",
       "  <tbody>\n",
       "    <tr>\n",
       "      <th>Fair</th>\n",
       "      <td>1.046137</td>\n",
       "      <td>4358.757764</td>\n",
       "      <td>1.046137</td>\n",
       "      <td>4358.757764</td>\n",
       "    </tr>\n",
       "    <tr>\n",
       "      <th>Good</th>\n",
       "      <td>0.849185</td>\n",
       "      <td>3928.864452</td>\n",
       "      <td>0.849185</td>\n",
       "      <td>3928.864452</td>\n",
       "    </tr>\n",
       "    <tr>\n",
       "      <th>Ideal</th>\n",
       "      <td>0.702837</td>\n",
       "      <td>3457.541970</td>\n",
       "      <td>0.702837</td>\n",
       "      <td>3457.541970</td>\n",
       "    </tr>\n",
       "    <tr>\n",
       "      <th>Premium</th>\n",
       "      <td>0.891955</td>\n",
       "      <td>4584.257704</td>\n",
       "      <td>0.891955</td>\n",
       "      <td>4584.257704</td>\n",
       "    </tr>\n",
       "    <tr>\n",
       "      <th>Very Good</th>\n",
       "      <td>0.806381</td>\n",
       "      <td>3981.759891</td>\n",
       "      <td>0.806381</td>\n",
       "      <td>3981.759891</td>\n",
       "    </tr>\n",
       "  </tbody>\n",
       "</table>\n",
       "</div>"
      ],
      "text/plain": [
       "                avg                    min             \n",
       "              carat        price     carat        price\n",
       "cut                                                    \n",
       "Fair       1.046137  4358.757764  1.046137  4358.757764\n",
       "Good       0.849185  3928.864452  0.849185  3928.864452\n",
       "Ideal      0.702837  3457.541970  0.702837  3457.541970\n",
       "Premium    0.891955  4584.257704  0.891955  4584.257704\n",
       "Very Good  0.806381  3981.759891  0.806381  3981.759891"
      ]
     },
     "execution_count": 88,
     "metadata": {},
     "output_type": "execute_result"
    }
   ],
   "source": [
    "# Group by using multiple aggregation on 1 column input\n",
    "# This is dataframe group by\n",
    "(\n",
    "    df.set_index('cut')\n",
    "    .groupby(level=0)\n",
    "    [['carat','price']]\n",
    "    .agg({'avg':np.average, 'min':np.mean})\n",
    ")"
   ]
  },
  {
   "cell_type": "markdown",
   "metadata": {},
   "source": [
    "### SCALES\n",
    "\n",
    "I should refer back to udacity material\n",
    "\n",
    "- Ratio Sales:\n",
    "    - Units are equally spaced\n",
    "    - mathematical operations of +-/* are avall valid\n",
    "    - e.g Height and Weight\n",
    "- Inverval scale:\n",
    "    - Units are equally spaced by there is no true zero\n",
    "- Ordinal scale:\n",
    "    - the order of the units is important but not evenly spaced\n",
    "    - letter grades such as A+, A are good example\n",
    "- Norminal scales:\n",
    "    - Categories of data, but the categories have no order with respoect to one another\n"
   ]
  },
  {
   "cell_type": "markdown",
   "metadata": {},
   "source": [
    "#### Categorical Datatype"
   ]
  },
  {
   "cell_type": "code",
   "execution_count": 89,
   "metadata": {},
   "outputs": [
    {
     "data": {
      "text/html": [
       "<div>\n",
       "<style scoped>\n",
       "    .dataframe tbody tr th:only-of-type {\n",
       "        vertical-align: middle;\n",
       "    }\n",
       "\n",
       "    .dataframe tbody tr th {\n",
       "        vertical-align: top;\n",
       "    }\n",
       "\n",
       "    .dataframe thead th {\n",
       "        text-align: right;\n",
       "    }\n",
       "</style>\n",
       "<table border=\"1\" class=\"dataframe\">\n",
       "  <thead>\n",
       "    <tr style=\"text-align: right;\">\n",
       "      <th></th>\n",
       "      <th>carat</th>\n",
       "      <th>cut</th>\n",
       "      <th>color</th>\n",
       "      <th>clarity</th>\n",
       "      <th>depth</th>\n",
       "      <th>table</th>\n",
       "      <th>price</th>\n",
       "      <th>x</th>\n",
       "      <th>y</th>\n",
       "      <th>z</th>\n",
       "    </tr>\n",
       "  </thead>\n",
       "  <tbody>\n",
       "    <tr>\n",
       "      <th>0</th>\n",
       "      <td>0.23</td>\n",
       "      <td>Ideal</td>\n",
       "      <td>E</td>\n",
       "      <td>SI2</td>\n",
       "      <td>61.5</td>\n",
       "      <td>55.0</td>\n",
       "      <td>326</td>\n",
       "      <td>3.95</td>\n",
       "      <td>3.98</td>\n",
       "      <td>2.43</td>\n",
       "    </tr>\n",
       "    <tr>\n",
       "      <th>1</th>\n",
       "      <td>0.21</td>\n",
       "      <td>Premium</td>\n",
       "      <td>E</td>\n",
       "      <td>SI1</td>\n",
       "      <td>59.8</td>\n",
       "      <td>61.0</td>\n",
       "      <td>326</td>\n",
       "      <td>3.89</td>\n",
       "      <td>3.84</td>\n",
       "      <td>2.31</td>\n",
       "    </tr>\n",
       "    <tr>\n",
       "      <th>2</th>\n",
       "      <td>0.23</td>\n",
       "      <td>Good</td>\n",
       "      <td>E</td>\n",
       "      <td>VS1</td>\n",
       "      <td>56.9</td>\n",
       "      <td>65.0</td>\n",
       "      <td>327</td>\n",
       "      <td>4.05</td>\n",
       "      <td>4.07</td>\n",
       "      <td>2.31</td>\n",
       "    </tr>\n",
       "    <tr>\n",
       "      <th>3</th>\n",
       "      <td>0.29</td>\n",
       "      <td>Premium</td>\n",
       "      <td>I</td>\n",
       "      <td>VS2</td>\n",
       "      <td>62.4</td>\n",
       "      <td>58.0</td>\n",
       "      <td>334</td>\n",
       "      <td>4.20</td>\n",
       "      <td>4.23</td>\n",
       "      <td>2.63</td>\n",
       "    </tr>\n",
       "    <tr>\n",
       "      <th>4</th>\n",
       "      <td>0.31</td>\n",
       "      <td>Good</td>\n",
       "      <td>J</td>\n",
       "      <td>SI2</td>\n",
       "      <td>63.3</td>\n",
       "      <td>58.0</td>\n",
       "      <td>335</td>\n",
       "      <td>4.34</td>\n",
       "      <td>4.35</td>\n",
       "      <td>2.75</td>\n",
       "    </tr>\n",
       "  </tbody>\n",
       "</table>\n",
       "</div>"
      ],
      "text/plain": [
       "   carat      cut color clarity  depth  table  price     x     y     z\n",
       "0   0.23    Ideal     E     SI2   61.5   55.0    326  3.95  3.98  2.43\n",
       "1   0.21  Premium     E     SI1   59.8   61.0    326  3.89  3.84  2.31\n",
       "2   0.23     Good     E     VS1   56.9   65.0    327  4.05  4.07  2.31\n",
       "3   0.29  Premium     I     VS2   62.4   58.0    334  4.20  4.23  2.63\n",
       "4   0.31     Good     J     SI2   63.3   58.0    335  4.34  4.35  2.75"
      ]
     },
     "execution_count": 89,
     "metadata": {},
     "output_type": "execute_result"
    }
   ],
   "source": [
    "# To convert a column data type to categorical:\n",
    "\n",
    "df = sns.load_dataset('diamonds')\n",
    "\n",
    "df.head()"
   ]
  },
  {
   "cell_type": "code",
   "execution_count": 93,
   "metadata": {},
   "outputs": [
    {
     "data": {
      "text/plain": [
       "0      Ideal\n",
       "1    Premium\n",
       "2       Good\n",
       "3    Premium\n",
       "4       Good\n",
       "Name: cut, dtype: category\n",
       "Categories (5, object): [Fair, Good, Ideal, Premium, Very Good]"
      ]
     },
     "execution_count": 93,
     "metadata": {},
     "output_type": "execute_result"
    }
   ],
   "source": [
    "# Convert to Categorical data\n",
    "\n",
    "df.cut.astype('category').head()"
   ]
  },
  {
   "cell_type": "code",
   "execution_count": 100,
   "metadata": {},
   "outputs": [
    {
     "name": "stderr",
     "output_type": "stream",
     "text": [
      "/anaconda3/lib/python3.7/site-packages/ipykernel_launcher.py:5: FutureWarning: specifying 'categories' or 'ordered' in .astype() is deprecated; pass a CategoricalDtype instead\n",
      "  \"\"\"\n"
     ]
    },
    {
     "data": {
      "text/plain": [
       "0      Ideal\n",
       "1    Premium\n",
       "2       Good\n",
       "3    Premium\n",
       "4       Good\n",
       "Name: cut, dtype: category\n",
       "Categories (5, object): [Fair < Good < Very Good < Premium < Ideal]"
      ]
     },
     "execution_count": 100,
     "metadata": {},
     "output_type": "execute_result"
    }
   ],
   "source": [
    "# Convert to Orinal data:\n",
    "\n",
    "df['cut'].astype('category',\n",
    "             categories = ['Fair', 'Good', 'Very Good', 'Premium', 'Ideal'],\n",
    "             ordered = True).head()"
   ]
  },
  {
   "cell_type": "code",
   "execution_count": 96,
   "metadata": {},
   "outputs": [
    {
     "data": {
      "text/html": [
       "<div>\n",
       "<style scoped>\n",
       "    .dataframe tbody tr th:only-of-type {\n",
       "        vertical-align: middle;\n",
       "    }\n",
       "\n",
       "    .dataframe tbody tr th {\n",
       "        vertical-align: top;\n",
       "    }\n",
       "\n",
       "    .dataframe thead th {\n",
       "        text-align: right;\n",
       "    }\n",
       "</style>\n",
       "<table border=\"1\" class=\"dataframe\">\n",
       "  <thead>\n",
       "    <tr style=\"text-align: right;\">\n",
       "      <th></th>\n",
       "      <th>carat</th>\n",
       "      <th>cut</th>\n",
       "      <th>color</th>\n",
       "      <th>clarity</th>\n",
       "      <th>depth</th>\n",
       "      <th>table</th>\n",
       "      <th>price</th>\n",
       "      <th>x</th>\n",
       "      <th>y</th>\n",
       "      <th>z</th>\n",
       "    </tr>\n",
       "  </thead>\n",
       "  <tbody>\n",
       "    <tr>\n",
       "      <th>8796</th>\n",
       "      <td>1.10</td>\n",
       "      <td>Premium</td>\n",
       "      <td>E</td>\n",
       "      <td>SI1</td>\n",
       "      <td>60.0</td>\n",
       "      <td>58.0</td>\n",
       "      <td>4472</td>\n",
       "      <td>6.68</td>\n",
       "      <td>6.65</td>\n",
       "      <td>4.05</td>\n",
       "    </tr>\n",
       "    <tr>\n",
       "      <th>16421</th>\n",
       "      <td>1.27</td>\n",
       "      <td>Very Good</td>\n",
       "      <td>I</td>\n",
       "      <td>SI1</td>\n",
       "      <td>60.7</td>\n",
       "      <td>61.0</td>\n",
       "      <td>6559</td>\n",
       "      <td>6.97</td>\n",
       "      <td>6.91</td>\n",
       "      <td>4.21</td>\n",
       "    </tr>\n",
       "    <tr>\n",
       "      <th>13288</th>\n",
       "      <td>1.00</td>\n",
       "      <td>Premium</td>\n",
       "      <td>D</td>\n",
       "      <td>SI1</td>\n",
       "      <td>62.1</td>\n",
       "      <td>61.0</td>\n",
       "      <td>5488</td>\n",
       "      <td>6.32</td>\n",
       "      <td>6.30</td>\n",
       "      <td>3.92</td>\n",
       "    </tr>\n",
       "    <tr>\n",
       "      <th>40323</th>\n",
       "      <td>0.42</td>\n",
       "      <td>Ideal</td>\n",
       "      <td>H</td>\n",
       "      <td>IF</td>\n",
       "      <td>61.6</td>\n",
       "      <td>56.0</td>\n",
       "      <td>1126</td>\n",
       "      <td>4.84</td>\n",
       "      <td>4.87</td>\n",
       "      <td>2.99</td>\n",
       "    </tr>\n",
       "    <tr>\n",
       "      <th>27465</th>\n",
       "      <td>2.12</td>\n",
       "      <td>Premium</td>\n",
       "      <td>E</td>\n",
       "      <td>SI2</td>\n",
       "      <td>58.3</td>\n",
       "      <td>59.0</td>\n",
       "      <td>18120</td>\n",
       "      <td>8.48</td>\n",
       "      <td>8.41</td>\n",
       "      <td>4.92</td>\n",
       "    </tr>\n",
       "  </tbody>\n",
       "</table>\n",
       "</div>"
      ],
      "text/plain": [
       "       carat        cut color clarity  depth  table  price     x     y     z\n",
       "8796    1.10    Premium     E     SI1   60.0   58.0   4472  6.68  6.65  4.05\n",
       "16421   1.27  Very Good     I     SI1   60.7   61.0   6559  6.97  6.91  4.21\n",
       "13288   1.00    Premium     D     SI1   62.1   61.0   5488  6.32  6.30  3.92\n",
       "40323   0.42      Ideal     H      IF   61.6   56.0   1126  4.84  4.87  2.99\n",
       "27465   2.12    Premium     E     SI2   58.3   59.0  18120  8.48  8.41  4.92"
      ]
     },
     "execution_count": 96,
     "metadata": {},
     "output_type": "execute_result"
    }
   ],
   "source": [
    "# query with Orinal data:\n",
    "df[df.cut > 'Good'].sample(5)"
   ]
  },
  {
   "cell_type": "markdown",
   "metadata": {},
   "source": [
    "#### Interval Datatype"
   ]
  },
  {
   "cell_type": "code",
   "execution_count": 104,
   "metadata": {},
   "outputs": [
    {
     "data": {
      "text/plain": [
       "0    (0.195, 1.803]\n",
       "1    (0.195, 1.803]\n",
       "2    (0.195, 1.803]\n",
       "3    (0.195, 1.803]\n",
       "4    (0.195, 1.803]\n",
       "Name: carat, dtype: category\n",
       "Categories (3, interval[float64]): [(0.195, 1.803] < (1.803, 3.407] < (3.407, 5.01]]"
      ]
     },
     "execution_count": 104,
     "metadata": {},
     "output_type": "execute_result"
    }
   ],
   "source": [
    "# Put data into bins\n",
    "\n",
    "pd.cut(df.carat,3).head() \n",
    "# This create 3 bins and put each record df.carat into each bin"
   ]
  },
  {
   "cell_type": "code",
   "execution_count": 108,
   "metadata": {},
   "outputs": [
    {
     "data": {
      "text/plain": [
       "7160     Small\n",
       "9883     Small\n",
       "36624    Small\n",
       "3975     Small\n",
       "40683    Small\n",
       "Name: carat, dtype: category\n",
       "Categories (3, object): [Small < Medium < Large]"
      ]
     },
     "execution_count": 108,
     "metadata": {},
     "output_type": "execute_result"
    }
   ],
   "source": [
    "# Label can be assigned to each bin instead of value\n",
    "pd.cut(df.carat,3, labels=['Small', 'Medium', 'Large']).sample(5)"
   ]
  },
  {
   "cell_type": "markdown",
   "metadata": {},
   "source": [
    "### PIVOT TABLE:"
   ]
  },
  {
   "cell_type": "code",
   "execution_count": 111,
   "metadata": {},
   "outputs": [
    {
     "data": {
      "text/html": [
       "<div>\n",
       "<style scoped>\n",
       "    .dataframe tbody tr th:only-of-type {\n",
       "        vertical-align: middle;\n",
       "    }\n",
       "\n",
       "    .dataframe tbody tr th {\n",
       "        vertical-align: top;\n",
       "    }\n",
       "\n",
       "    .dataframe thead th {\n",
       "        text-align: right;\n",
       "    }\n",
       "</style>\n",
       "<table border=\"1\" class=\"dataframe\">\n",
       "  <thead>\n",
       "    <tr style=\"text-align: right;\">\n",
       "      <th>cut</th>\n",
       "      <th>Fair</th>\n",
       "      <th>Good</th>\n",
       "      <th>Ideal</th>\n",
       "      <th>Premium</th>\n",
       "      <th>Very Good</th>\n",
       "    </tr>\n",
       "    <tr>\n",
       "      <th>color</th>\n",
       "      <th></th>\n",
       "      <th></th>\n",
       "      <th></th>\n",
       "      <th></th>\n",
       "      <th></th>\n",
       "    </tr>\n",
       "  </thead>\n",
       "  <tbody>\n",
       "    <tr>\n",
       "      <th>D</th>\n",
       "      <td>4291.061350</td>\n",
       "      <td>3405.382175</td>\n",
       "      <td>2629.094566</td>\n",
       "      <td>3631.292576</td>\n",
       "      <td>3470.467284</td>\n",
       "    </tr>\n",
       "    <tr>\n",
       "      <th>E</th>\n",
       "      <td>3682.312500</td>\n",
       "      <td>3423.644159</td>\n",
       "      <td>2597.550090</td>\n",
       "      <td>3538.914420</td>\n",
       "      <td>3214.652083</td>\n",
       "    </tr>\n",
       "    <tr>\n",
       "      <th>F</th>\n",
       "      <td>3827.003205</td>\n",
       "      <td>3495.750275</td>\n",
       "      <td>3374.939362</td>\n",
       "      <td>4324.890176</td>\n",
       "      <td>3778.820240</td>\n",
       "    </tr>\n",
       "    <tr>\n",
       "      <th>G</th>\n",
       "      <td>4239.254777</td>\n",
       "      <td>4123.482204</td>\n",
       "      <td>3720.706388</td>\n",
       "      <td>4500.742134</td>\n",
       "      <td>3872.753806</td>\n",
       "    </tr>\n",
       "    <tr>\n",
       "      <th>H</th>\n",
       "      <td>5135.683168</td>\n",
       "      <td>4276.254986</td>\n",
       "      <td>3889.334831</td>\n",
       "      <td>5216.706780</td>\n",
       "      <td>4535.390351</td>\n",
       "    </tr>\n",
       "    <tr>\n",
       "      <th>I</th>\n",
       "      <td>4685.445714</td>\n",
       "      <td>5078.532567</td>\n",
       "      <td>4451.970377</td>\n",
       "      <td>5946.180672</td>\n",
       "      <td>5255.879568</td>\n",
       "    </tr>\n",
       "    <tr>\n",
       "      <th>J</th>\n",
       "      <td>4975.655462</td>\n",
       "      <td>4574.172638</td>\n",
       "      <td>4918.186384</td>\n",
       "      <td>6294.591584</td>\n",
       "      <td>5103.513274</td>\n",
       "    </tr>\n",
       "  </tbody>\n",
       "</table>\n",
       "</div>"
      ],
      "text/plain": [
       "cut           Fair         Good        Ideal      Premium    Very Good\n",
       "color                                                                 \n",
       "D      4291.061350  3405.382175  2629.094566  3631.292576  3470.467284\n",
       "E      3682.312500  3423.644159  2597.550090  3538.914420  3214.652083\n",
       "F      3827.003205  3495.750275  3374.939362  4324.890176  3778.820240\n",
       "G      4239.254777  4123.482204  3720.706388  4500.742134  3872.753806\n",
       "H      5135.683168  4276.254986  3889.334831  5216.706780  4535.390351\n",
       "I      4685.445714  5078.532567  4451.970377  5946.180672  5255.879568\n",
       "J      4975.655462  4574.172638  4918.186384  6294.591584  5103.513274"
      ]
     },
     "execution_count": 111,
     "metadata": {},
     "output_type": "execute_result"
    }
   ],
   "source": [
    "df.pivot_table(values = 'price', index = 'color', columns = 'cut', aggfunc=np.average)"
   ]
  },
  {
   "cell_type": "code",
   "execution_count": 114,
   "metadata": {},
   "outputs": [
    {
     "data": {
      "text/html": [
       "<div>\n",
       "<style scoped>\n",
       "    .dataframe tbody tr th:only-of-type {\n",
       "        vertical-align: middle;\n",
       "    }\n",
       "\n",
       "    .dataframe tbody tr th {\n",
       "        vertical-align: top;\n",
       "    }\n",
       "\n",
       "    .dataframe thead tr th {\n",
       "        text-align: left;\n",
       "    }\n",
       "\n",
       "    .dataframe thead tr:last-of-type th {\n",
       "        text-align: right;\n",
       "    }\n",
       "</style>\n",
       "<table border=\"1\" class=\"dataframe\">\n",
       "  <thead>\n",
       "    <tr>\n",
       "      <th></th>\n",
       "      <th colspan=\"6\" halign=\"left\">amin</th>\n",
       "      <th colspan=\"6\" halign=\"left\">average</th>\n",
       "      <th colspan=\"6\" halign=\"left\">amax</th>\n",
       "    </tr>\n",
       "    <tr>\n",
       "      <th>cut</th>\n",
       "      <th>Fair</th>\n",
       "      <th>Good</th>\n",
       "      <th>Ideal</th>\n",
       "      <th>Premium</th>\n",
       "      <th>Very Good</th>\n",
       "      <th>All</th>\n",
       "      <th>Fair</th>\n",
       "      <th>Good</th>\n",
       "      <th>Ideal</th>\n",
       "      <th>Premium</th>\n",
       "      <th>Very Good</th>\n",
       "      <th>All</th>\n",
       "      <th>Fair</th>\n",
       "      <th>Good</th>\n",
       "      <th>Ideal</th>\n",
       "      <th>Premium</th>\n",
       "      <th>Very Good</th>\n",
       "      <th>All</th>\n",
       "    </tr>\n",
       "    <tr>\n",
       "      <th>color</th>\n",
       "      <th></th>\n",
       "      <th></th>\n",
       "      <th></th>\n",
       "      <th></th>\n",
       "      <th></th>\n",
       "      <th></th>\n",
       "      <th></th>\n",
       "      <th></th>\n",
       "      <th></th>\n",
       "      <th></th>\n",
       "      <th></th>\n",
       "      <th></th>\n",
       "      <th></th>\n",
       "      <th></th>\n",
       "      <th></th>\n",
       "      <th></th>\n",
       "      <th></th>\n",
       "      <th></th>\n",
       "    </tr>\n",
       "  </thead>\n",
       "  <tbody>\n",
       "    <tr>\n",
       "      <th>D</th>\n",
       "      <td>536</td>\n",
       "      <td>361</td>\n",
       "      <td>367</td>\n",
       "      <td>367</td>\n",
       "      <td>357</td>\n",
       "      <td>357</td>\n",
       "      <td>4291.061350</td>\n",
       "      <td>3405.382175</td>\n",
       "      <td>2629.094566</td>\n",
       "      <td>3631.292576</td>\n",
       "      <td>3470.467284</td>\n",
       "      <td>3169.954096</td>\n",
       "      <td>16386</td>\n",
       "      <td>18468</td>\n",
       "      <td>18693</td>\n",
       "      <td>18575</td>\n",
       "      <td>18542</td>\n",
       "      <td>18693</td>\n",
       "    </tr>\n",
       "    <tr>\n",
       "      <th>E</th>\n",
       "      <td>337</td>\n",
       "      <td>327</td>\n",
       "      <td>326</td>\n",
       "      <td>326</td>\n",
       "      <td>352</td>\n",
       "      <td>326</td>\n",
       "      <td>3682.312500</td>\n",
       "      <td>3423.644159</td>\n",
       "      <td>2597.550090</td>\n",
       "      <td>3538.914420</td>\n",
       "      <td>3214.652083</td>\n",
       "      <td>3076.752475</td>\n",
       "      <td>15584</td>\n",
       "      <td>18236</td>\n",
       "      <td>18729</td>\n",
       "      <td>18477</td>\n",
       "      <td>18731</td>\n",
       "      <td>18731</td>\n",
       "    </tr>\n",
       "    <tr>\n",
       "      <th>F</th>\n",
       "      <td>496</td>\n",
       "      <td>357</td>\n",
       "      <td>408</td>\n",
       "      <td>342</td>\n",
       "      <td>357</td>\n",
       "      <td>342</td>\n",
       "      <td>3827.003205</td>\n",
       "      <td>3495.750275</td>\n",
       "      <td>3374.939362</td>\n",
       "      <td>4324.890176</td>\n",
       "      <td>3778.820240</td>\n",
       "      <td>3724.886397</td>\n",
       "      <td>17995</td>\n",
       "      <td>18686</td>\n",
       "      <td>18780</td>\n",
       "      <td>18791</td>\n",
       "      <td>18777</td>\n",
       "      <td>18791</td>\n",
       "    </tr>\n",
       "    <tr>\n",
       "      <th>G</th>\n",
       "      <td>369</td>\n",
       "      <td>394</td>\n",
       "      <td>361</td>\n",
       "      <td>382</td>\n",
       "      <td>354</td>\n",
       "      <td>354</td>\n",
       "      <td>4239.254777</td>\n",
       "      <td>4123.482204</td>\n",
       "      <td>3720.706388</td>\n",
       "      <td>4500.742134</td>\n",
       "      <td>3872.753806</td>\n",
       "      <td>3999.135671</td>\n",
       "      <td>18574</td>\n",
       "      <td>18788</td>\n",
       "      <td>18806</td>\n",
       "      <td>18741</td>\n",
       "      <td>18818</td>\n",
       "      <td>18818</td>\n",
       "    </tr>\n",
       "    <tr>\n",
       "      <th>H</th>\n",
       "      <td>659</td>\n",
       "      <td>368</td>\n",
       "      <td>357</td>\n",
       "      <td>368</td>\n",
       "      <td>337</td>\n",
       "      <td>337</td>\n",
       "      <td>5135.683168</td>\n",
       "      <td>4276.254986</td>\n",
       "      <td>3889.334831</td>\n",
       "      <td>5216.706780</td>\n",
       "      <td>4535.390351</td>\n",
       "      <td>4486.669196</td>\n",
       "      <td>18565</td>\n",
       "      <td>18640</td>\n",
       "      <td>18760</td>\n",
       "      <td>18795</td>\n",
       "      <td>18803</td>\n",
       "      <td>18803</td>\n",
       "    </tr>\n",
       "    <tr>\n",
       "      <th>I</th>\n",
       "      <td>735</td>\n",
       "      <td>351</td>\n",
       "      <td>348</td>\n",
       "      <td>334</td>\n",
       "      <td>336</td>\n",
       "      <td>334</td>\n",
       "      <td>4685.445714</td>\n",
       "      <td>5078.532567</td>\n",
       "      <td>4451.970377</td>\n",
       "      <td>5946.180672</td>\n",
       "      <td>5255.879568</td>\n",
       "      <td>5091.874954</td>\n",
       "      <td>18242</td>\n",
       "      <td>18707</td>\n",
       "      <td>18779</td>\n",
       "      <td>18823</td>\n",
       "      <td>18500</td>\n",
       "      <td>18823</td>\n",
       "    </tr>\n",
       "    <tr>\n",
       "      <th>J</th>\n",
       "      <td>416</td>\n",
       "      <td>335</td>\n",
       "      <td>340</td>\n",
       "      <td>363</td>\n",
       "      <td>336</td>\n",
       "      <td>335</td>\n",
       "      <td>4975.655462</td>\n",
       "      <td>4574.172638</td>\n",
       "      <td>4918.186384</td>\n",
       "      <td>6294.591584</td>\n",
       "      <td>5103.513274</td>\n",
       "      <td>5323.818020</td>\n",
       "      <td>18531</td>\n",
       "      <td>18325</td>\n",
       "      <td>18508</td>\n",
       "      <td>18710</td>\n",
       "      <td>18430</td>\n",
       "      <td>18710</td>\n",
       "    </tr>\n",
       "    <tr>\n",
       "      <th>All</th>\n",
       "      <td>337</td>\n",
       "      <td>327</td>\n",
       "      <td>326</td>\n",
       "      <td>326</td>\n",
       "      <td>336</td>\n",
       "      <td>326</td>\n",
       "      <td>4358.757764</td>\n",
       "      <td>3928.864452</td>\n",
       "      <td>3457.541970</td>\n",
       "      <td>4584.257704</td>\n",
       "      <td>3981.759891</td>\n",
       "      <td>3932.799722</td>\n",
       "      <td>18574</td>\n",
       "      <td>18788</td>\n",
       "      <td>18806</td>\n",
       "      <td>18823</td>\n",
       "      <td>18818</td>\n",
       "      <td>18823</td>\n",
       "    </tr>\n",
       "  </tbody>\n",
       "</table>\n",
       "</div>"
      ],
      "text/plain": [
       "      amin                                        average               \\\n",
       "cut   Fair Good Ideal Premium Very Good  All         Fair         Good   \n",
       "color                                                                    \n",
       "D      536  361   367     367       357  357  4291.061350  3405.382175   \n",
       "E      337  327   326     326       352  326  3682.312500  3423.644159   \n",
       "F      496  357   408     342       357  342  3827.003205  3495.750275   \n",
       "G      369  394   361     382       354  354  4239.254777  4123.482204   \n",
       "H      659  368   357     368       337  337  5135.683168  4276.254986   \n",
       "I      735  351   348     334       336  334  4685.445714  5078.532567   \n",
       "J      416  335   340     363       336  335  4975.655462  4574.172638   \n",
       "All    337  327   326     326       336  326  4358.757764  3928.864452   \n",
       "\n",
       "                                                            amax         \\\n",
       "cut          Ideal      Premium    Very Good          All   Fair   Good   \n",
       "color                                                                     \n",
       "D      2629.094566  3631.292576  3470.467284  3169.954096  16386  18468   \n",
       "E      2597.550090  3538.914420  3214.652083  3076.752475  15584  18236   \n",
       "F      3374.939362  4324.890176  3778.820240  3724.886397  17995  18686   \n",
       "G      3720.706388  4500.742134  3872.753806  3999.135671  18574  18788   \n",
       "H      3889.334831  5216.706780  4535.390351  4486.669196  18565  18640   \n",
       "I      4451.970377  5946.180672  5255.879568  5091.874954  18242  18707   \n",
       "J      4918.186384  6294.591584  5103.513274  5323.818020  18531  18325   \n",
       "All    3457.541970  4584.257704  3981.759891  3932.799722  18574  18788   \n",
       "\n",
       "                                       \n",
       "cut    Ideal Premium Very Good    All  \n",
       "color                                  \n",
       "D      18693   18575     18542  18693  \n",
       "E      18729   18477     18731  18731  \n",
       "F      18780   18791     18777  18791  \n",
       "G      18806   18741     18818  18818  \n",
       "H      18760   18795     18803  18803  \n",
       "I      18779   18823     18500  18823  \n",
       "J      18508   18710     18430  18710  \n",
       "All    18806   18823     18818  18823  "
      ]
     },
     "execution_count": 114,
     "metadata": {},
     "output_type": "execute_result"
    }
   ],
   "source": [
    "# We can apply multiple function with summary\n",
    "\n",
    "df.pivot_table(values = 'price', index = 'color', columns = 'cut', aggfunc=[np.min,np.average, np.max], margins = True)"
   ]
  },
  {
   "cell_type": "markdown",
   "metadata": {},
   "source": [
    "## Date & Time in Pandas"
   ]
  },
  {
   "cell_type": "markdown",
   "metadata": {},
   "source": [
    "## Timestamp"
   ]
  },
  {
   "cell_type": "code",
   "execution_count": 117,
   "metadata": {},
   "outputs": [
    {
     "data": {
      "text/plain": [
       "Timestamp('2019-08-01 10:05:00')"
      ]
     },
     "execution_count": 117,
     "metadata": {},
     "output_type": "execute_result"
    }
   ],
   "source": [
    "pd.Timestamp('01 Aug 2019 10:05AM',)"
   ]
  },
  {
   "cell_type": "markdown",
   "metadata": {},
   "source": [
    "## Period"
   ]
  },
  {
   "cell_type": "code",
   "execution_count": 119,
   "metadata": {},
   "outputs": [
    {
     "data": {
      "text/plain": [
       "Period('2019-08', 'M')"
      ]
     },
     "execution_count": 119,
     "metadata": {},
     "output_type": "execute_result"
    }
   ],
   "source": [
    "\n",
    "# A period of a month\n",
    "pd.Period('2019 Aug')"
   ]
  },
  {
   "cell_type": "code",
   "execution_count": 120,
   "metadata": {},
   "outputs": [
    {
     "data": {
      "text/plain": [
       "Period('2019-08-01', 'D')"
      ]
     },
     "execution_count": 120,
     "metadata": {},
     "output_type": "execute_result"
    }
   ],
   "source": [
    "# A period of one day\n",
    "pd.Period('2019 Aug 01')"
   ]
  },
  {
   "cell_type": "markdown",
   "metadata": {},
   "source": [
    "## Convert to datetime"
   ]
  },
  {
   "cell_type": "code",
   "execution_count": 129,
   "metadata": {},
   "outputs": [
    {
     "data": {
      "text/html": [
       "<div>\n",
       "<style scoped>\n",
       "    .dataframe tbody tr th:only-of-type {\n",
       "        vertical-align: middle;\n",
       "    }\n",
       "\n",
       "    .dataframe tbody tr th {\n",
       "        vertical-align: top;\n",
       "    }\n",
       "\n",
       "    .dataframe thead th {\n",
       "        text-align: right;\n",
       "    }\n",
       "</style>\n",
       "<table border=\"1\" class=\"dataframe\">\n",
       "  <thead>\n",
       "    <tr style=\"text-align: right;\">\n",
       "      <th></th>\n",
       "      <th>a</th>\n",
       "      <th>b</th>\n",
       "    </tr>\n",
       "  </thead>\n",
       "  <tbody>\n",
       "    <tr>\n",
       "      <th>15/08/2019</th>\n",
       "      <td>81</td>\n",
       "      <td>38</td>\n",
       "    </tr>\n",
       "    <tr>\n",
       "      <th>1/02/2019</th>\n",
       "      <td>24</td>\n",
       "      <td>77</td>\n",
       "    </tr>\n",
       "    <tr>\n",
       "      <th>3 Aug 2019</th>\n",
       "      <td>63</td>\n",
       "      <td>29</td>\n",
       "    </tr>\n",
       "  </tbody>\n",
       "</table>\n",
       "</div>"
      ],
      "text/plain": [
       "             a   b\n",
       "15/08/2019  81  38\n",
       "1/02/2019   24  77\n",
       "3 Aug 2019  63  29"
      ]
     },
     "execution_count": 129,
     "metadata": {},
     "output_type": "execute_result"
    }
   ],
   "source": [
    "idx = ['15/08/2019','1/02/2019', '3 Aug 2019']\n",
    "df = pd.DataFrame(np.random.randint(10,100,(3,2)), index = idx, columns = list('ab')) \n",
    "df"
   ]
  },
  {
   "cell_type": "code",
   "execution_count": 130,
   "metadata": {},
   "outputs": [
    {
     "data": {
      "text/html": [
       "<div>\n",
       "<style scoped>\n",
       "    .dataframe tbody tr th:only-of-type {\n",
       "        vertical-align: middle;\n",
       "    }\n",
       "\n",
       "    .dataframe tbody tr th {\n",
       "        vertical-align: top;\n",
       "    }\n",
       "\n",
       "    .dataframe thead th {\n",
       "        text-align: right;\n",
       "    }\n",
       "</style>\n",
       "<table border=\"1\" class=\"dataframe\">\n",
       "  <thead>\n",
       "    <tr style=\"text-align: right;\">\n",
       "      <th></th>\n",
       "      <th>a</th>\n",
       "      <th>b</th>\n",
       "    </tr>\n",
       "  </thead>\n",
       "  <tbody>\n",
       "    <tr>\n",
       "      <th>2019-08-15</th>\n",
       "      <td>81</td>\n",
       "      <td>38</td>\n",
       "    </tr>\n",
       "    <tr>\n",
       "      <th>2019-02-01</th>\n",
       "      <td>24</td>\n",
       "      <td>77</td>\n",
       "    </tr>\n",
       "    <tr>\n",
       "      <th>2019-08-03</th>\n",
       "      <td>63</td>\n",
       "      <td>29</td>\n",
       "    </tr>\n",
       "  </tbody>\n",
       "</table>\n",
       "</div>"
      ],
      "text/plain": [
       "             a   b\n",
       "2019-08-15  81  38\n",
       "2019-02-01  24  77\n",
       "2019-08-03  63  29"
      ]
     },
     "execution_count": 130,
     "metadata": {},
     "output_type": "execute_result"
    }
   ],
   "source": [
    "df.index = pd.to_datetime(df.index, dayfirst=True) \n",
    "# note that it will follow the freaking American format without dayfirst\n",
    "df"
   ]
  },
  {
   "cell_type": "markdown",
   "metadata": {},
   "source": [
    "## Timedeltas"
   ]
  },
  {
   "cell_type": "code",
   "execution_count": 131,
   "metadata": {},
   "outputs": [
    {
     "data": {
      "text/plain": [
       "Timedelta('14 days 00:00:00')"
      ]
     },
     "execution_count": 131,
     "metadata": {},
     "output_type": "execute_result"
    }
   ],
   "source": [
    "# Different between 2 timestamp\n",
    "pd.Timestamp('15 Aug 2019') - pd.Timestamp('1 Aug 2019')"
   ]
  },
  {
   "cell_type": "code",
   "execution_count": 134,
   "metadata": {},
   "outputs": [
    {
     "data": {
      "text/plain": [
       "Timestamp('2019-08-17 03:20:00')"
      ]
     },
     "execution_count": 134,
     "metadata": {},
     "output_type": "execute_result"
    }
   ],
   "source": [
    "# Adds time delta to timestamp\n",
    "pd.Timestamp('15 Aug 2019') + pd.Timedelta('2D 3H 20M')"
   ]
  },
  {
   "cell_type": "markdown",
   "metadata": {},
   "source": [
    "## Date range"
   ]
  },
  {
   "cell_type": "code",
   "execution_count": 3,
   "metadata": {},
   "outputs": [
    {
     "data": {
      "text/plain": [
       "DatetimeIndex(['2019-07-07', '2019-07-21', '2019-08-04', '2019-08-18',\n",
       "               '2019-09-01', '2019-09-15', '2019-09-29', '2019-10-13',\n",
       "               '2019-10-27'],\n",
       "              dtype='datetime64[ns]', freq='2W-SUN')"
      ]
     },
     "execution_count": 3,
     "metadata": {},
     "output_type": "execute_result"
    }
   ],
   "source": [
    "# Looking at 9 date, bi-weekly, start with Sunday starting from 01-July-2019\n",
    "\n",
    "dates = pd.date_range('01 July 2019', periods=9, freq = '2W-SUN' )\n",
    "dates\n",
    "\n",
    "# With the result below you can see that it pickup the first sunday of from the start date \n",
    "# then the next sunday after 2 weeks to create a period of 9 days"
   ]
  },
  {
   "cell_type": "code",
   "execution_count": 5,
   "metadata": {},
   "outputs": [
    {
     "data": {
      "text/html": [
       "<div>\n",
       "<style scoped>\n",
       "    .dataframe tbody tr th:only-of-type {\n",
       "        vertical-align: middle;\n",
       "    }\n",
       "\n",
       "    .dataframe tbody tr th {\n",
       "        vertical-align: top;\n",
       "    }\n",
       "\n",
       "    .dataframe thead th {\n",
       "        text-align: right;\n",
       "    }\n",
       "</style>\n",
       "<table border=\"1\" class=\"dataframe\">\n",
       "  <thead>\n",
       "    <tr style=\"text-align: right;\">\n",
       "      <th></th>\n",
       "      <th>Count 1</th>\n",
       "      <th>Count 2</th>\n",
       "    </tr>\n",
       "  </thead>\n",
       "  <tbody>\n",
       "    <tr>\n",
       "      <th>2019-07-07</th>\n",
       "      <td>107</td>\n",
       "      <td>107</td>\n",
       "    </tr>\n",
       "    <tr>\n",
       "      <th>2019-07-21</th>\n",
       "      <td>106</td>\n",
       "      <td>108</td>\n",
       "    </tr>\n",
       "    <tr>\n",
       "      <th>2019-08-04</th>\n",
       "      <td>107</td>\n",
       "      <td>103</td>\n",
       "    </tr>\n",
       "    <tr>\n",
       "      <th>2019-08-18</th>\n",
       "      <td>115</td>\n",
       "      <td>107</td>\n",
       "    </tr>\n",
       "    <tr>\n",
       "      <th>2019-09-01</th>\n",
       "      <td>118</td>\n",
       "      <td>106</td>\n",
       "    </tr>\n",
       "    <tr>\n",
       "      <th>2019-09-15</th>\n",
       "      <td>123</td>\n",
       "      <td>104</td>\n",
       "    </tr>\n",
       "    <tr>\n",
       "      <th>2019-09-29</th>\n",
       "      <td>123</td>\n",
       "      <td>100</td>\n",
       "    </tr>\n",
       "    <tr>\n",
       "      <th>2019-10-13</th>\n",
       "      <td>124</td>\n",
       "      <td>104</td>\n",
       "    </tr>\n",
       "    <tr>\n",
       "      <th>2019-10-27</th>\n",
       "      <td>123</td>\n",
       "      <td>101</td>\n",
       "    </tr>\n",
       "  </tbody>\n",
       "</table>\n",
       "</div>"
      ],
      "text/plain": [
       "            Count 1  Count 2\n",
       "2019-07-07      107      107\n",
       "2019-07-21      106      108\n",
       "2019-08-04      107      103\n",
       "2019-08-18      115      107\n",
       "2019-09-01      118      106\n",
       "2019-09-15      123      104\n",
       "2019-09-29      123      100\n",
       "2019-10-13      124      104\n",
       "2019-10-27      123      101"
      ]
     },
     "execution_count": 5,
     "metadata": {},
     "output_type": "execute_result"
    }
   ],
   "source": [
    "import pandas as pd\n",
    "import numpy as np\n",
    "df = pd.DataFrame({'Count 1': 100 + np.random.randint(-5,10, 9).cumsum()\n",
    "                  ,'Count 2': 100 + np.random.randint(-5,10, 9)}\n",
    "                  ,index = dates)\n",
    "df"
   ]
  },
  {
   "cell_type": "code",
   "execution_count": 143,
   "metadata": {},
   "outputs": [
    {
     "data": {
      "text/plain": [
       "Index(['Sunday', 'Sunday', 'Sunday', 'Sunday', 'Sunday', 'Sunday', 'Sunday',\n",
       "       'Sunday', 'Sunday'],\n",
       "      dtype='object')"
      ]
     },
     "execution_count": 143,
     "metadata": {},
     "output_type": "execute_result"
    }
   ],
   "source": [
    "# Check what weekday name:\n",
    "df.index.weekday_name"
   ]
  },
  {
   "cell_type": "code",
   "execution_count": 145,
   "metadata": {},
   "outputs": [
    {
     "data": {
      "text/html": [
       "<div>\n",
       "<style scoped>\n",
       "    .dataframe tbody tr th:only-of-type {\n",
       "        vertical-align: middle;\n",
       "    }\n",
       "\n",
       "    .dataframe tbody tr th {\n",
       "        vertical-align: top;\n",
       "    }\n",
       "\n",
       "    .dataframe thead th {\n",
       "        text-align: right;\n",
       "    }\n",
       "</style>\n",
       "<table border=\"1\" class=\"dataframe\">\n",
       "  <thead>\n",
       "    <tr style=\"text-align: right;\">\n",
       "      <th></th>\n",
       "      <th>Count 1</th>\n",
       "      <th>Count 2</th>\n",
       "    </tr>\n",
       "  </thead>\n",
       "  <tbody>\n",
       "    <tr>\n",
       "      <th>2019-07-07</th>\n",
       "      <td>NaN</td>\n",
       "      <td>NaN</td>\n",
       "    </tr>\n",
       "    <tr>\n",
       "      <th>2019-07-21</th>\n",
       "      <td>2.0</td>\n",
       "      <td>2.0</td>\n",
       "    </tr>\n",
       "    <tr>\n",
       "      <th>2019-08-04</th>\n",
       "      <td>9.0</td>\n",
       "      <td>10.0</td>\n",
       "    </tr>\n",
       "    <tr>\n",
       "      <th>2019-08-18</th>\n",
       "      <td>-4.0</td>\n",
       "      <td>-2.0</td>\n",
       "    </tr>\n",
       "    <tr>\n",
       "      <th>2019-09-01</th>\n",
       "      <td>6.0</td>\n",
       "      <td>1.0</td>\n",
       "    </tr>\n",
       "    <tr>\n",
       "      <th>2019-09-15</th>\n",
       "      <td>-2.0</td>\n",
       "      <td>-2.0</td>\n",
       "    </tr>\n",
       "    <tr>\n",
       "      <th>2019-09-29</th>\n",
       "      <td>6.0</td>\n",
       "      <td>0.0</td>\n",
       "    </tr>\n",
       "    <tr>\n",
       "      <th>2019-10-13</th>\n",
       "      <td>-5.0</td>\n",
       "      <td>1.0</td>\n",
       "    </tr>\n",
       "    <tr>\n",
       "      <th>2019-10-27</th>\n",
       "      <td>0.0</td>\n",
       "      <td>0.0</td>\n",
       "    </tr>\n",
       "  </tbody>\n",
       "</table>\n",
       "</div>"
      ],
      "text/plain": [
       "            Count 1  Count 2\n",
       "2019-07-07      NaN      NaN\n",
       "2019-07-21      2.0      2.0\n",
       "2019-08-04      9.0     10.0\n",
       "2019-08-18     -4.0     -2.0\n",
       "2019-09-01      6.0      1.0\n",
       "2019-09-15     -2.0     -2.0\n",
       "2019-09-29      6.0      0.0\n",
       "2019-10-13     -5.0      1.0\n",
       "2019-10-27      0.0      0.0"
      ]
     },
     "execution_count": 145,
     "metadata": {},
     "output_type": "execute_result"
    }
   ],
   "source": [
    "# Check different between value in each row for each column\n",
    "df.diff()"
   ]
  },
  {
   "cell_type": "code",
   "execution_count": 146,
   "metadata": {},
   "outputs": [
    {
     "data": {
      "text/html": [
       "<div>\n",
       "<style scoped>\n",
       "    .dataframe tbody tr th:only-of-type {\n",
       "        vertical-align: middle;\n",
       "    }\n",
       "\n",
       "    .dataframe tbody tr th {\n",
       "        vertical-align: top;\n",
       "    }\n",
       "\n",
       "    .dataframe thead th {\n",
       "        text-align: right;\n",
       "    }\n",
       "</style>\n",
       "<table border=\"1\" class=\"dataframe\">\n",
       "  <thead>\n",
       "    <tr style=\"text-align: right;\">\n",
       "      <th></th>\n",
       "      <th>Count 1</th>\n",
       "      <th>Count 2</th>\n",
       "    </tr>\n",
       "  </thead>\n",
       "  <tbody>\n",
       "    <tr>\n",
       "      <th>2019-07-31</th>\n",
       "      <td>104.000000</td>\n",
       "      <td>96.000000</td>\n",
       "    </tr>\n",
       "    <tr>\n",
       "      <th>2019-08-31</th>\n",
       "      <td>112.000000</td>\n",
       "      <td>106.000000</td>\n",
       "    </tr>\n",
       "    <tr>\n",
       "      <th>2019-09-30</th>\n",
       "      <td>116.666667</td>\n",
       "      <td>104.666667</td>\n",
       "    </tr>\n",
       "    <tr>\n",
       "      <th>2019-10-31</th>\n",
       "      <td>115.000000</td>\n",
       "      <td>105.000000</td>\n",
       "    </tr>\n",
       "  </tbody>\n",
       "</table>\n",
       "</div>"
      ],
      "text/plain": [
       "               Count 1     Count 2\n",
       "2019-07-31  104.000000   96.000000\n",
       "2019-08-31  112.000000  106.000000\n",
       "2019-09-30  116.666667  104.666667\n",
       "2019-10-31  115.000000  105.000000"
      ]
     },
     "execution_count": 146,
     "metadata": {},
     "output_type": "execute_result"
    }
   ],
   "source": [
    "# Mean value for each month in the dataframe\n",
    "df.resample('M').mean()"
   ]
  },
  {
   "cell_type": "code",
   "execution_count": 147,
   "metadata": {},
   "outputs": [
    {
     "data": {
      "text/html": [
       "<div>\n",
       "<style scoped>\n",
       "    .dataframe tbody tr th:only-of-type {\n",
       "        vertical-align: middle;\n",
       "    }\n",
       "\n",
       "    .dataframe tbody tr th {\n",
       "        vertical-align: top;\n",
       "    }\n",
       "\n",
       "    .dataframe thead th {\n",
       "        text-align: right;\n",
       "    }\n",
       "</style>\n",
       "<table border=\"1\" class=\"dataframe\">\n",
       "  <thead>\n",
       "    <tr style=\"text-align: right;\">\n",
       "      <th></th>\n",
       "      <th>Count 1</th>\n",
       "      <th>Count 2</th>\n",
       "    </tr>\n",
       "  </thead>\n",
       "  <tbody>\n",
       "    <tr>\n",
       "      <th>2019-08-04</th>\n",
       "      <td>114</td>\n",
       "      <td>107</td>\n",
       "    </tr>\n",
       "    <tr>\n",
       "      <th>2019-08-18</th>\n",
       "      <td>110</td>\n",
       "      <td>105</td>\n",
       "    </tr>\n",
       "  </tbody>\n",
       "</table>\n",
       "</div>"
      ],
      "text/plain": [
       "            Count 1  Count 2\n",
       "2019-08-04      114      107\n",
       "2019-08-18      110      105"
      ]
     },
     "execution_count": 147,
     "metadata": {},
     "output_type": "execute_result"
    }
   ],
   "source": [
    "# Partial string indexing to find values in Aug 2019\n",
    "\n",
    "df['2019 Aug']"
   ]
  },
  {
   "cell_type": "code",
   "execution_count": 148,
   "metadata": {},
   "outputs": [
    {
     "data": {
      "text/html": [
       "<div>\n",
       "<style scoped>\n",
       "    .dataframe tbody tr th:only-of-type {\n",
       "        vertical-align: middle;\n",
       "    }\n",
       "\n",
       "    .dataframe tbody tr th {\n",
       "        vertical-align: top;\n",
       "    }\n",
       "\n",
       "    .dataframe thead th {\n",
       "        text-align: right;\n",
       "    }\n",
       "</style>\n",
       "<table border=\"1\" class=\"dataframe\">\n",
       "  <thead>\n",
       "    <tr style=\"text-align: right;\">\n",
       "      <th></th>\n",
       "      <th>Count 1</th>\n",
       "      <th>Count 2</th>\n",
       "    </tr>\n",
       "  </thead>\n",
       "  <tbody>\n",
       "    <tr>\n",
       "      <th>2019-09-01</th>\n",
       "      <td>116</td>\n",
       "      <td>106</td>\n",
       "    </tr>\n",
       "    <tr>\n",
       "      <th>2019-09-15</th>\n",
       "      <td>114</td>\n",
       "      <td>104</td>\n",
       "    </tr>\n",
       "    <tr>\n",
       "      <th>2019-09-29</th>\n",
       "      <td>120</td>\n",
       "      <td>104</td>\n",
       "    </tr>\n",
       "    <tr>\n",
       "      <th>2019-10-13</th>\n",
       "      <td>115</td>\n",
       "      <td>105</td>\n",
       "    </tr>\n",
       "    <tr>\n",
       "      <th>2019-10-27</th>\n",
       "      <td>115</td>\n",
       "      <td>105</td>\n",
       "    </tr>\n",
       "  </tbody>\n",
       "</table>\n",
       "</div>"
      ],
      "text/plain": [
       "            Count 1  Count 2\n",
       "2019-09-01      116      106\n",
       "2019-09-15      114      104\n",
       "2019-09-29      120      104\n",
       "2019-10-13      115      105\n",
       "2019-10-27      115      105"
      ]
     },
     "execution_count": 148,
     "metadata": {},
     "output_type": "execute_result"
    }
   ],
   "source": [
    "# Partial string indexing to find values for a range of dates:\n",
    "df['2019 Sept':]"
   ]
  },
  {
   "cell_type": "code",
   "execution_count": 149,
   "metadata": {},
   "outputs": [
    {
     "data": {
      "text/html": [
       "<div>\n",
       "<style scoped>\n",
       "    .dataframe tbody tr th:only-of-type {\n",
       "        vertical-align: middle;\n",
       "    }\n",
       "\n",
       "    .dataframe tbody tr th {\n",
       "        vertical-align: top;\n",
       "    }\n",
       "\n",
       "    .dataframe thead th {\n",
       "        text-align: right;\n",
       "    }\n",
       "</style>\n",
       "<table border=\"1\" class=\"dataframe\">\n",
       "  <thead>\n",
       "    <tr style=\"text-align: right;\">\n",
       "      <th></th>\n",
       "      <th>Count 1</th>\n",
       "      <th>Count 2</th>\n",
       "    </tr>\n",
       "  </thead>\n",
       "  <tbody>\n",
       "    <tr>\n",
       "      <th>2019-07-07</th>\n",
       "      <td>103</td>\n",
       "      <td>95</td>\n",
       "    </tr>\n",
       "    <tr>\n",
       "      <th>2019-07-14</th>\n",
       "      <td>103</td>\n",
       "      <td>95</td>\n",
       "    </tr>\n",
       "    <tr>\n",
       "      <th>2019-07-21</th>\n",
       "      <td>105</td>\n",
       "      <td>97</td>\n",
       "    </tr>\n",
       "    <tr>\n",
       "      <th>2019-07-28</th>\n",
       "      <td>105</td>\n",
       "      <td>97</td>\n",
       "    </tr>\n",
       "    <tr>\n",
       "      <th>2019-08-04</th>\n",
       "      <td>114</td>\n",
       "      <td>107</td>\n",
       "    </tr>\n",
       "    <tr>\n",
       "      <th>2019-08-11</th>\n",
       "      <td>114</td>\n",
       "      <td>107</td>\n",
       "    </tr>\n",
       "    <tr>\n",
       "      <th>2019-08-18</th>\n",
       "      <td>110</td>\n",
       "      <td>105</td>\n",
       "    </tr>\n",
       "    <tr>\n",
       "      <th>2019-08-25</th>\n",
       "      <td>110</td>\n",
       "      <td>105</td>\n",
       "    </tr>\n",
       "    <tr>\n",
       "      <th>2019-09-01</th>\n",
       "      <td>116</td>\n",
       "      <td>106</td>\n",
       "    </tr>\n",
       "    <tr>\n",
       "      <th>2019-09-08</th>\n",
       "      <td>116</td>\n",
       "      <td>106</td>\n",
       "    </tr>\n",
       "    <tr>\n",
       "      <th>2019-09-15</th>\n",
       "      <td>114</td>\n",
       "      <td>104</td>\n",
       "    </tr>\n",
       "    <tr>\n",
       "      <th>2019-09-22</th>\n",
       "      <td>114</td>\n",
       "      <td>104</td>\n",
       "    </tr>\n",
       "    <tr>\n",
       "      <th>2019-09-29</th>\n",
       "      <td>120</td>\n",
       "      <td>104</td>\n",
       "    </tr>\n",
       "    <tr>\n",
       "      <th>2019-10-06</th>\n",
       "      <td>120</td>\n",
       "      <td>104</td>\n",
       "    </tr>\n",
       "    <tr>\n",
       "      <th>2019-10-13</th>\n",
       "      <td>115</td>\n",
       "      <td>105</td>\n",
       "    </tr>\n",
       "    <tr>\n",
       "      <th>2019-10-20</th>\n",
       "      <td>115</td>\n",
       "      <td>105</td>\n",
       "    </tr>\n",
       "    <tr>\n",
       "      <th>2019-10-27</th>\n",
       "      <td>115</td>\n",
       "      <td>105</td>\n",
       "    </tr>\n",
       "  </tbody>\n",
       "</table>\n",
       "</div>"
      ],
      "text/plain": [
       "            Count 1  Count 2\n",
       "2019-07-07      103       95\n",
       "2019-07-14      103       95\n",
       "2019-07-21      105       97\n",
       "2019-07-28      105       97\n",
       "2019-08-04      114      107\n",
       "2019-08-11      114      107\n",
       "2019-08-18      110      105\n",
       "2019-08-25      110      105\n",
       "2019-09-01      116      106\n",
       "2019-09-08      116      106\n",
       "2019-09-15      114      104\n",
       "2019-09-22      114      104\n",
       "2019-09-29      120      104\n",
       "2019-10-06      120      104\n",
       "2019-10-13      115      105\n",
       "2019-10-20      115      105\n",
       "2019-10-27      115      105"
      ]
     },
     "execution_count": 149,
     "metadata": {},
     "output_type": "execute_result"
    }
   ],
   "source": [
    "# Change the frequency of the datetime index from fortnightly to weekly and forward fill missing value\n",
    "\n",
    "df.asfreq('W', method='ffill')"
   ]
  },
  {
   "cell_type": "code",
   "execution_count": 8,
   "metadata": {},
   "outputs": [
    {
     "data": {
      "image/png": "[encoded data removed]",
      "text/plain": [
       "<Figure size 432x288 with 1 Axes>"
      ]
     },
     "metadata": {
      "needs_background": "light"
     },
     "output_type": "display_data"
    }
   ],
   "source": [
    "df.plot();"
   ]
  },
  {
   "cell_type": "markdown",
   "metadata": {},
   "source": [
    "## Replace value"
   ]
  },
  {
   "cell_type": "code",
   "execution_count": 12,
   "metadata": {},
   "outputs": [
    {
     "data": {
      "text/html": [
       "<div>\n",
       "<style scoped>\n",
       "    .dataframe tbody tr th:only-of-type {\n",
       "        vertical-align: middle;\n",
       "    }\n",
       "\n",
       "    .dataframe tbody tr th {\n",
       "        vertical-align: top;\n",
       "    }\n",
       "\n",
       "    .dataframe thead th {\n",
       "        text-align: right;\n",
       "    }\n",
       "</style>\n",
       "<table border=\"1\" class=\"dataframe\">\n",
       "  <thead>\n",
       "    <tr style=\"text-align: right;\">\n",
       "      <th></th>\n",
       "      <th>Country</th>\n",
       "      <th>Energy Supply</th>\n",
       "      <th>Energy Supply per Capita</th>\n",
       "      <th>% Renewable</th>\n",
       "    </tr>\n",
       "  </thead>\n",
       "  <tbody>\n",
       "    <tr>\n",
       "      <th>0</th>\n",
       "      <td>Afghanistan</td>\n",
       "      <td>321</td>\n",
       "      <td>10</td>\n",
       "      <td>78.669280</td>\n",
       "    </tr>\n",
       "    <tr>\n",
       "      <th>1</th>\n",
       "      <td>Albania</td>\n",
       "      <td>102</td>\n",
       "      <td>35</td>\n",
       "      <td>100.000000</td>\n",
       "    </tr>\n",
       "    <tr>\n",
       "      <th>2</th>\n",
       "      <td>Algeria</td>\n",
       "      <td>1959</td>\n",
       "      <td>51</td>\n",
       "      <td>0.551010</td>\n",
       "    </tr>\n",
       "    <tr>\n",
       "      <th>3</th>\n",
       "      <td>American Samoa</td>\n",
       "      <td>...</td>\n",
       "      <td>...</td>\n",
       "      <td>0.641026</td>\n",
       "    </tr>\n",
       "    <tr>\n",
       "      <th>4</th>\n",
       "      <td>Andorra</td>\n",
       "      <td>9</td>\n",
       "      <td>121</td>\n",
       "      <td>88.695650</td>\n",
       "    </tr>\n",
       "  </tbody>\n",
       "</table>\n",
       "</div>"
      ],
      "text/plain": [
       "          Country Energy Supply Energy Supply per Capita  % Renewable\n",
       "0     Afghanistan           321                       10    78.669280\n",
       "1         Albania           102                       35   100.000000\n",
       "2         Algeria          1959                       51     0.551010\n",
       "3  American Samoa           ...                      ...     0.641026\n",
       "4         Andorra             9                      121    88.695650"
      ]
     },
     "execution_count": 12,
     "metadata": {},
     "output_type": "execute_result"
    }
   ],
   "source": [
    "import pandas as pd\n",
    "import numpy as np\n",
    "\n",
    "# Read an excel files with headers and footer\n",
    "col_name = ['Country', 'Energy Supply', 'Energy Supply per Capita', '% Renewable']\n",
    "energy = pd.read_excel('data/Energy Indicators.xls'\n",
    "                       , skiprows = range(18)\n",
    "                       , skip_footer=38\n",
    "                       , usecols=\"C:F\"\n",
    "                       , header= None\n",
    "                       , names = col_name)\n",
    "energy.head()"
   ]
  },
  {
   "cell_type": "code",
   "execution_count": 13,
   "metadata": {},
   "outputs": [],
   "source": [
    "# Replace value using Regex, https://pandas.pydata.org/pandas-docs/stable/reference/api/pandas.DataFrame.replace.html\n",
    "\n",
    "energy.Country.replace(regex=[r'\\d+', '\\(.+\\)'], value='', inplace=True)\n"
   ]
  },
  {
   "cell_type": "code",
   "execution_count": null,
   "metadata": {},
   "outputs": [],
   "source": [
    "# Replace using dictionary\n",
    "country_list = { \"Republic of Korea\": \"South Korea\",\n",
    "                \"United States of America\": \"United States\",\n",
    "                \"United Kingdom of Great Britain and Northern Ireland\": \"United Kingdom\",\n",
    "                \"China, Hong Kong Special Administrative Region\": \"Hong Kong\"}\n",
    "energy.Country.replace(country_list, inplace = True)"
   ]
  }
 ],
 "metadata": {
  "kernelspec": {
   "display_name": "Python 3",
   "language": "python",
   "name": "python3"
  },
  "language_info": {
   "codemirror_mode": {
    "name": "ipython",
    "version": 3
   },
   "file_extension": ".py",
   "mimetype": "text/x-python",
   "name": "python",
   "nbconvert_exporter": "python",
   "pygments_lexer": "ipython3",
   "version": "3.7.1"
  }
 },
 "nbformat": 4,
 "nbformat_minor": 2
}
