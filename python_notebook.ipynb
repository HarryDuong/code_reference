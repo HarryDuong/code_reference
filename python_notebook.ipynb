{
 "cells": [
  {
   "cell_type": "code",
   "execution_count": 1,
   "metadata": {},
   "outputs": [],
   "source": [
    "# else function in for loop\n",
    "\n",
    "def find(seq, target):\n",
    "    \"\"\"\n",
    "    This to demonstrate the 'else' function in a for loop. \n",
    "    Using 'else' in for loop to do an action if there was\n",
    "    no break found in the loop.\n",
    "\n",
    "    \"\"\"\n",
    "    for i, value in enumerate(seq):\n",
    "        if value == target:\n",
    "            break\n",
    "    else:\n",
    "        return -1\n",
    "\n",
    "    return i"
   ]
  },
  {
   "cell_type": "markdown",
   "metadata": {},
   "source": [
    "## DICTIONARY AND DEFAULTDICT"
   ]
  },
  {
   "cell_type": "code",
   "execution_count": 3,
   "metadata": {},
   "outputs": [
    {
     "data": {
      "text/plain": [
       "{'a': 1, 'a3': 3, 'b': 4}"
      ]
     },
     "execution_count": 3,
     "metadata": {},
     "output_type": "execute_result"
    }
   ],
   "source": [
    "# LOOPING OVER DICTIONARY KEYS AND DELETE KEYS WITH CRITERIA\n",
    "\n",
    "d = {'a': 1, 'a3': 3, 'b': 4, 'r4':5}\n",
    "# instead of looping over each keys and delete items\n",
    "d = {k: d[k] for k in d if not k.startswith('r')}\n",
    "\n",
    "d"
   ]
  },
  {
   "cell_type": "code",
   "execution_count": 5,
   "metadata": {},
   "outputs": [
    {
     "data": {
      "text/plain": [
       "defaultdict(int, {'red': 3, 'green': 1, 'blue': 2})"
      ]
     },
     "execution_count": 5,
     "metadata": {},
     "output_type": "execute_result"
    }
   ],
   "source": [
    "# COUNTING WITH DICTIONARY\n",
    "\n",
    "from collections import defaultdict\n",
    "colors = ['red', 'green', 'blue', 'blue', 'red', 'red']\n",
    "d = {}\n",
    "\n",
    "# First method\n",
    "for color in colors:\n",
    "    d[color] = d.get(color, 0) + 1\n",
    "\n",
    "# Using default dict:\n",
    "d = defaultdict(int)\n",
    "\n",
    "for color in colors:\n",
    "    d[color] += 1  # If color is not exists yet,\n",
    "    \n",
    "d"
   ]
  },
  {
   "cell_type": "code",
   "execution_count": null,
   "metadata": {},
   "outputs": [],
   "source": [
    "# GROUPING WITH DICTIONARY\n",
    "colors = ['red', 'green', 'blue', 'blue', 'red', 'red']\n",
    "d = defaultdict(list)\n",
    "for color in colors:\n",
    "    key = len(color)\n",
    "    d[key].append(color)"
   ]
  },
  {
   "cell_type": "code",
   "execution_count": 6,
   "metadata": {},
   "outputs": [
    {
     "name": "stdout",
     "output_type": "stream",
     "text": [
      "person =  {'name': 'Phill', 'age': 22}\n",
      "Return Value =  ('salary', 3500.0)\n"
     ]
    }
   ],
   "source": [
    "# DICTIONARY POPITEM\n",
    "\n",
    "# returns an arbitrary element (key, value) pair from the dictionary\n",
    "# removes an arbitrary element (the same element which is returned) from the dictionary.\n",
    "\n",
    "person = {'name': 'Phill', 'age': 22, 'salary': 3500.0}\n",
    "\n",
    "result = person.popitem()\n",
    "print('person = ', person)\n",
    "print('Return Value = ', result)"
   ]
  },
  {
   "cell_type": "markdown",
   "metadata": {},
   "source": [
    "## DATE & TIME"
   ]
  },
  {
   "cell_type": "code",
   "execution_count": null,
   "metadata": {},
   "outputs": [],
   "source": [
    "# CONVERT TIMESTAMP FROM UTC TO OTHER TIMEZONE \n",
    "\n",
    "def convert_time_from_utc(timestamp, to_time_zone='Australia/Melbourne', output_format=None):\n",
    "    \"\"\"\n",
    "    Convert utc timestamp to other timestamp\n",
    "\n",
    "    Args:\n",
    "        timestamp: datetime object or string present datetime.\n",
    "                    if the input is string it must follow 'YYYY-MM-DD HH:MM:SS'\n",
    "\n",
    "        to_time_zone: to the desire timezone\n",
    "        output_format: 'datetime' or string format of time\n",
    "                    If set as None, then function return exactly the same type as input.\n",
    "\n",
    "    Returns:\n",
    "        datetime object or string presenting datetime in new time zone\n",
    "    \"\"\"\n",
    "\n",
    "    if output_format is None:\n",
    "        if type(timestamp) is str:\n",
    "            output_format = 'str'\n",
    "            timestamp = datetime.strptime(timestamp, '%Y-%m-%d %H:%M:%S')\n",
    "        elif (type(timestamp) is datetime) or (type(timestamp) is datetime.datetime):\n",
    "            output_format = 'datetime'\n",
    "        else:\n",
    "            raise ValueError(\n",
    "                'input timestamp must either string YYYY-MM-DD HH:MM:SS or a datetime object')\n",
    "\n",
    "    utc_tz = tz.gettz('UTC')\n",
    "    to_tz = tz.gettz(to_time_zone)\n",
    "\n",
    "    output = timestamp.replace(tzinfo=utc_tz)\n",
    "    output = output.astimezone(to_tz)\n",
    "\n",
    "    if output_format == 'datetime':\n",
    "        return output\n",
    "    elif output_format == 'str':\n",
    "        return datetime.strftime(output, '%Y-%m-%d %H:%M:%S')\n",
    "    else:\n",
    "        return datetime.strftime(output, output_format)"
   ]
  },
  {
   "cell_type": "markdown",
   "metadata": {},
   "source": [
    "### Timestamp"
   ]
  },
  {
   "cell_type": "code",
   "execution_count": 7,
   "metadata": {},
   "outputs": [
    {
     "data": {
      "text/plain": [
       "1565014626.918981"
      ]
     },
     "execution_count": 7,
     "metadata": {},
     "output_type": "execute_result"
    }
   ],
   "source": [
    "# EPOCH: timestamp from 1/1/1970\n",
    "import time\n",
    "\n",
    "time.time()"
   ]
  },
  {
   "cell_type": "code",
   "execution_count": 10,
   "metadata": {},
   "outputs": [
    {
     "data": {
      "text/plain": [
       "datetime.datetime(2019, 8, 6, 0, 18, 18, 455068)"
      ]
     },
     "execution_count": 10,
     "metadata": {},
     "output_type": "execute_result"
    }
   ],
   "source": [
    "from datetime import datetime\n",
    "dtnow = datetime.fromtimestamp(time.time())\n",
    "dtnow"
   ]
  },
  {
   "cell_type": "code",
   "execution_count": 13,
   "metadata": {},
   "outputs": [
    {
     "data": {
      "text/plain": [
       "(2019, 8, 0)"
      ]
     },
     "execution_count": 13,
     "metadata": {},
     "output_type": "execute_result"
    }
   ],
   "source": [
    "dtnow.year, dtnow.month, dtnow.hour"
   ]
  },
  {
   "cell_type": "markdown",
   "metadata": {},
   "source": [
    "### UTC"
   ]
  },
  {
   "cell_type": "code",
   "execution_count": 15,
   "metadata": {},
   "outputs": [
    {
     "data": {
      "text/plain": [
       "datetime.datetime(2019, 8, 5, 14, 19, 53, 799258, tzinfo=datetime.timezone.utc)"
      ]
     },
     "execution_count": 15,
     "metadata": {},
     "output_type": "execute_result"
    }
   ],
   "source": [
    "# GET TODAY DATE IN UTC TIME ZONE\n",
    "from datetime import datetime, timezone, timedelta\n",
    "\n",
    "datetime.now(timezone.utc)"
   ]
  },
  {
   "cell_type": "code",
   "execution_count": 16,
   "metadata": {},
   "outputs": [
    {
     "data": {
      "text/plain": [
       "datetime.datetime(2019, 8, 1, 0, 20, 12, 154164)"
      ]
     },
     "execution_count": 16,
     "metadata": {},
     "output_type": "execute_result"
    }
   ],
   "source": [
    "# 5 days before current time:\n",
    "datetime.today() + timedelta(days=-5)"
   ]
  },
  {
   "cell_type": "markdown",
   "metadata": {},
   "source": [
    "## DATAFRAME"
   ]
  },
  {
   "cell_type": "markdown",
   "metadata": {},
   "source": [
    "### Index"
   ]
  },
  {
   "cell_type": "code",
   "execution_count": 17,
   "metadata": {},
   "outputs": [
    {
     "data": {
      "text/html": [
       "<div>\n",
       "<style scoped>\n",
       "    .dataframe tbody tr th:only-of-type {\n",
       "        vertical-align: middle;\n",
       "    }\n",
       "\n",
       "    .dataframe tbody tr th {\n",
       "        vertical-align: top;\n",
       "    }\n",
       "\n",
       "    .dataframe thead th {\n",
       "        text-align: right;\n",
       "    }\n",
       "</style>\n",
       "<table border=\"1\" class=\"dataframe\">\n",
       "  <thead>\n",
       "    <tr style=\"text-align: right;\">\n",
       "      <th></th>\n",
       "      <th></th>\n",
       "      <th>Item Purchased</th>\n",
       "      <th>Cost</th>\n",
       "    </tr>\n",
       "    <tr>\n",
       "      <th>Location</th>\n",
       "      <th>Name</th>\n",
       "      <th></th>\n",
       "      <th></th>\n",
       "    </tr>\n",
       "  </thead>\n",
       "  <tbody>\n",
       "    <tr>\n",
       "      <th rowspan=\"2\" valign=\"top\">Store 1</th>\n",
       "      <th>Chris</th>\n",
       "      <td>Dog Food</td>\n",
       "      <td>22.5</td>\n",
       "    </tr>\n",
       "    <tr>\n",
       "      <th>Kevyn</th>\n",
       "      <td>Kitty Litter</td>\n",
       "      <td>2.5</td>\n",
       "    </tr>\n",
       "    <tr>\n",
       "      <th rowspan=\"2\" valign=\"top\">Store 2</th>\n",
       "      <th>Vinod</th>\n",
       "      <td>Bird Seed</td>\n",
       "      <td>5.0</td>\n",
       "    </tr>\n",
       "    <tr>\n",
       "      <th>Kevyn</th>\n",
       "      <td>Kitty Food</td>\n",
       "      <td>3.0</td>\n",
       "    </tr>\n",
       "  </tbody>\n",
       "</table>\n",
       "</div>"
      ],
      "text/plain": [
       "               Item Purchased  Cost\n",
       "Location Name                      \n",
       "Store 1  Chris       Dog Food  22.5\n",
       "         Kevyn   Kitty Litter   2.5\n",
       "Store 2  Vinod      Bird Seed   5.0\n",
       "         Kevyn     Kitty Food   3.0"
      ]
     },
     "execution_count": 17,
     "metadata": {},
     "output_type": "execute_result"
    }
   ],
   "source": [
    "# SET MULTI-LEVEL INDEXING\n",
    "\n",
    "import pandas as pd\n",
    "\n",
    "purchase_1 = pd.Series({'Name': 'Chris',\n",
    "                        'Item Purchased': 'Dog Food',\n",
    "                        'Cost': 22.50})\n",
    "purchase_2 = pd.Series({'Name': 'Kevyn',\n",
    "                        'Item Purchased': 'Kitty Litter',\n",
    "                        'Cost': 2.50})\n",
    "purchase_3 = pd.Series({'Name': 'Vinod',\n",
    "                        'Item Purchased': 'Bird Seed',\n",
    "                        'Cost': 5.00})\n",
    "\n",
    "df = pd.DataFrame([purchase_1, purchase_2, purchase_3], index=['Store 1', 'Store 1', 'Store 2'])\n",
    "\n",
    "# Set multi-level index\n",
    "df = df.set_index([df.index, 'Name'])\n",
    "\n",
    "# Rename the index\n",
    "df.index.names = ['Location', 'Name']\n",
    "\n",
    "# Demonstrate adding record\n",
    "df = df.append(pd.Series(data={'Cost': 3.00, 'Item Purchased': 'Kitty Food'}, name=('Store 2', 'Kevyn')))\n",
    "df\n"
   ]
  },
  {
   "cell_type": "code",
   "execution_count": 20,
   "metadata": {},
   "outputs": [
    {
     "data": {
      "text/plain": [
       "Item Purchased    Dog Food\n",
       "Cost                  22.5\n",
       "Name: (Store 1, Chris), dtype: object"
      ]
     },
     "execution_count": 20,
     "metadata": {},
     "output_type": "execute_result"
    }
   ],
   "source": [
    "df.loc['Store 1','Chris']"
   ]
  },
  {
   "cell_type": "markdown",
   "metadata": {},
   "source": [
    "### Index of Maximum value in a column"
   ]
  },
  {
   "cell_type": "code",
   "execution_count": null,
   "metadata": {},
   "outputs": [],
   "source": [
    "df['col'].idxmax()"
   ]
  },
  {
   "cell_type": "markdown",
   "metadata": {},
   "source": [
    "### Method Chaining\n",
    "\n",
    "https://tomaugspurger.github.io/method-chaining.html\n",
    "\n",
    "https://www.datacamp.com/community/tutorials/pandas-idiomatic\n",
    "\n",
    "https://towardsdatascience.com/the-unreasonable-effectiveness-of-method-chaining-in-pandas-15c2109e3c69\n",
    "\n",
    "<p>Method chaining, where you call methods on an object one after another, is in vogue at the moment.\n",
    "It's always been a style of programming that's been possible with pandas,\n",
    "and over the past several releases, we've added methods that enable even more chaining.</p>\n",
    "\n",
    "<ul>\n",
    "<li><a href=\"http://pandas.pydata.org/pandas-docs/stable/generated/pandas.DataFrame.assign.html\">assign</a> (0.16.0): For adding new columns to a DataFrame in a chain (inspired by dplyr's <code>mutate</code>)</li>\n",
    "<li><a href=\"http://pandas.pydata.org/pandas-docs/stable/generated/pandas.DataFrame.pipe.html\">pipe</a> (0.16.2): For including user-defined methods in method chains.</li>\n",
    "<li><a href=\"http://pandas.pydata.org/pandas-docs/version/0.18.0/whatsnew.html#changes-to-rename\">rename</a> (0.18.0): For altering axis names (in additional to changing the actual labels as before).</li>\n",
    "<li><a href=\"http://pandas.pydata.org/pandas-docs/version/0.18.0/whatsnew.html#window-functions-are-now-methods\">Window methods</a> (0.18): Took the top-level <code>pd.rolling_*</code> and <code>pd.expanding_*</code> functions and made them <code>NDFrame</code> methods with a <code>groupby</code>-like API.</li>\n",
    "<li><a href=\"http://pandas.pydata.org/pandas-docs/version/0.18.0/whatsnew.html#resample-api\">Resample</a> (0.18.0) Added a new <code>groupby</code>-like API</li>\n",
    "<li><a href=\"https://github.com/pydata/pandas/pull/12539\">.where/mask/Indexers accept Callables</a> (0.18.1): In the next release you'll be able to pass a callable to the indexing methods, to be evaluated within the DataFrame's context (like <code>.query</code>, but with code instead of strings).</li>\n",
    "</ul>\n",
    "<p>My scripts will typically start off with large-ish chain at the start getting things into a manageable state.\n",
    "It's good to have the bulk of your munging done with right away so you can start to do Science™:</p>"
   ]
  },
  {
   "cell_type": "code",
   "execution_count": null,
   "metadata": {},
   "outputs": [],
   "source": [
    "\n",
    "(\n",
    "census_df.query(\"SUMLEV ==50\") # Get State level summary\n",
    "         .sort_values(['CENSUS2010POP'], ascending = False) # Sort each county by population desc\n",
    "         .groupby('STNAME') # Group by State name to get the top 3 counties\n",
    "         .head(3)\n",
    "         .groupby('STNAME') # Group by State name to get total population of each State by the top 3 counties\n",
    "         .sum()\n",
    "         .sort_values(['CENSUS2010POP'], ascending = False) # Order state by population\n",
    "         .head(3)\n",
    "         .index # Return the name of the states (as the index now)\n",
    ")"
   ]
  }
 ],
 "metadata": {
  "kernelspec": {
   "display_name": "Python 3",
   "language": "python",
   "name": "python3"
  },
  "language_info": {
   "codemirror_mode": {
    "name": "ipython",
    "version": 3
   },
   "file_extension": ".py",
   "mimetype": "text/x-python",
   "name": "python",
   "nbconvert_exporter": "python",
   "pygments_lexer": "ipython3",
   "version": "3.7.1"
  }
 },
 "nbformat": 4,
 "nbformat_minor": 2
}
