{
 "cells": [
  {
   "cell_type": "code",
   "execution_count": 1,
   "metadata": {},
   "outputs": [],
   "source": [
    "# else function in for loop\n",
    "\n",
    "def find(seq, target):\n",
    "    \"\"\"\n",
    "    This to demonstrate the 'else' function in a for loop. \n",
    "    Using 'else' in for loop to do an action if there was\n",
    "    no break found in the loop.\n",
    "\n",
    "    \"\"\"\n",
    "    for i, value in enumerate(seq):\n",
    "        if value == target:\n",
    "            break\n",
    "    else:\n",
    "        return -1\n",
    "\n",
    "    return i"
   ]
  },
  {
   "cell_type": "markdown",
   "metadata": {},
   "source": [
    "## DICTIONARY AND DEFAULTDICT"
   ]
  },
  {
   "cell_type": "code",
   "execution_count": 3,
   "metadata": {},
   "outputs": [
    {
     "data": {
      "text/plain": [
       "{'a': 1, 'a3': 3, 'b': 4}"
      ]
     },
     "execution_count": 3,
     "metadata": {},
     "output_type": "execute_result"
    }
   ],
   "source": [
    "# LOOPING OVER DICTIONARY KEYS AND DELETE KEYS WITH CRITERIA\n",
    "\n",
    "d = {'a': 1, 'a3': 3, 'b': 4, 'r4':5}\n",
    "# instead of looping over each keys and delete items\n",
    "d = {k: d[k] for k in d if not k.startswith('r')}\n",
    "\n",
    "d"
   ]
  },
  {
   "cell_type": "code",
   "execution_count": 5,
   "metadata": {},
   "outputs": [
    {
     "data": {
      "text/plain": [
       "defaultdict(int, {'red': 3, 'green': 1, 'blue': 2})"
      ]
     },
     "execution_count": 5,
     "metadata": {},
     "output_type": "execute_result"
    }
   ],
   "source": [
    "# COUNTING WITH DICTIONARY\n",
    "\n",
    "from collections import defaultdict\n",
    "colors = ['red', 'green', 'blue', 'blue', 'red', 'red']\n",
    "d = {}\n",
    "\n",
    "# First method\n",
    "for color in colors:\n",
    "    d[color] = d.get(color, 0) + 1\n",
    "\n",
    "# Using default dict:\n",
    "d = defaultdict(int)\n",
    "\n",
    "for color in colors:\n",
    "    d[color] += 1  # If color is not exists yet,\n",
    "    \n",
    "d"
   ]
  },
  {
   "cell_type": "code",
   "execution_count": null,
   "metadata": {},
   "outputs": [],
   "source": [
    "# GROUPING WITH DICTIONARY\n",
    "colors = ['red', 'green', 'blue', 'blue', 'red', 'red']\n",
    "d = defaultdict(list)\n",
    "for color in colors:\n",
    "    key = len(color)\n",
    "    d[key].append(color)"
   ]
  },
  {
   "cell_type": "code",
   "execution_count": 6,
   "metadata": {},
   "outputs": [
    {
     "name": "stdout",
     "output_type": "stream",
     "text": [
      "person =  {'name': 'Phill', 'age': 22}\n",
      "Return Value =  ('salary', 3500.0)\n"
     ]
    }
   ],
   "source": [
    "# DICTIONARY POPITEM\n",
    "\n",
    "# returns an arbitrary element (key, value) pair from the dictionary\n",
    "# removes an arbitrary element (the same element which is returned) from the dictionary.\n",
    "\n",
    "person = {'name': 'Phill', 'age': 22, 'salary': 3500.0}\n",
    "\n",
    "result = person.popitem()\n",
    "print('person = ', person)\n",
    "print('Return Value = ', result)"
   ]
  },
  {
   "cell_type": "markdown",
   "metadata": {},
   "source": [
    "## DATE & TIME"
   ]
  },
  {
   "cell_type": "code",
   "execution_count": null,
   "metadata": {},
   "outputs": [],
   "source": [
    "# CONVERT TIMESTAMP FROM UTC TO OTHER TIMEZONE \n",
    "\n",
    "def convert_time_from_utc(timestamp, to_time_zone='Australia/Melbourne', output_format=None):\n",
    "    \"\"\"\n",
    "    Convert utc timestamp to other timestamp\n",
    "\n",
    "    Args:\n",
    "        timestamp: datetime object or string present datetime.\n",
    "                    if the input is string it must follow 'YYYY-MM-DD HH:MM:SS'\n",
    "\n",
    "        to_time_zone: to the desire timezone\n",
    "        output_format: 'datetime' or string format of time\n",
    "                    If set as None, then function return exactly the same type as input.\n",
    "\n",
    "    Returns:\n",
    "        datetime object or string presenting datetime in new time zone\n",
    "    \"\"\"\n",
    "\n",
    "    if output_format is None:\n",
    "        if type(timestamp) is str:\n",
    "            output_format = 'str'\n",
    "            timestamp = datetime.strptime(timestamp, '%Y-%m-%d %H:%M:%S')\n",
    "        elif (type(timestamp) is datetime) or (type(timestamp) is datetime.datetime):\n",
    "            output_format = 'datetime'\n",
    "        else:\n",
    "            raise ValueError(\n",
    "                'input timestamp must either string YYYY-MM-DD HH:MM:SS or a datetime object')\n",
    "\n",
    "    utc_tz = tz.gettz('UTC')\n",
    "    to_tz = tz.gettz(to_time_zone)\n",
    "\n",
    "    output = timestamp.replace(tzinfo=utc_tz)\n",
    "    output = output.astimezone(to_tz)\n",
    "\n",
    "    if output_format == 'datetime':\n",
    "        return output\n",
    "    elif output_format == 'str':\n",
    "        return datetime.strftime(output, '%Y-%m-%d %H:%M:%S')\n",
    "    else:\n",
    "        return datetime.strftime(output, output_format)"
   ]
  },
  {
   "cell_type": "markdown",
   "metadata": {},
   "source": [
    "### Timestamp"
   ]
  },
  {
   "cell_type": "code",
   "execution_count": 7,
   "metadata": {},
   "outputs": [
    {
     "data": {
      "text/plain": [
       "1565014626.918981"
      ]
     },
     "execution_count": 7,
     "metadata": {},
     "output_type": "execute_result"
    }
   ],
   "source": [
    "# EPOCH: timestamp from 1/1/1970\n",
    "import time\n",
    "\n",
    "time.time()"
   ]
  },
  {
   "cell_type": "code",
   "execution_count": 10,
   "metadata": {},
   "outputs": [
    {
     "data": {
      "text/plain": [
       "datetime.datetime(2019, 8, 6, 0, 18, 18, 455068)"
      ]
     },
     "execution_count": 10,
     "metadata": {},
     "output_type": "execute_result"
    }
   ],
   "source": [
    "from datetime import datetime\n",
    "dtnow = datetime.fromtimestamp(time.time())\n",
    "dtnow"
   ]
  },
  {
   "cell_type": "code",
   "execution_count": 13,
   "metadata": {},
   "outputs": [
    {
     "data": {
      "text/plain": [
       "(2019, 8, 0)"
      ]
     },
     "execution_count": 13,
     "metadata": {},
     "output_type": "execute_result"
    }
   ],
   "source": [
    "dtnow.year, dtnow.month, dtnow.hour"
   ]
  },
  {
   "cell_type": "markdown",
   "metadata": {},
   "source": [
    "### UTC"
   ]
  },
  {
   "cell_type": "code",
   "execution_count": 15,
   "metadata": {},
   "outputs": [
    {
     "data": {
      "text/plain": [
       "datetime.datetime(2019, 8, 5, 14, 19, 53, 799258, tzinfo=datetime.timezone.utc)"
      ]
     },
     "execution_count": 15,
     "metadata": {},
     "output_type": "execute_result"
    }
   ],
   "source": [
    "# GET TODAY DATE IN UTC TIME ZONE\n",
    "from datetime import datetime, timezone, timedelta\n",
    "\n",
    "datetime.now(timezone.utc)"
   ]
  },
  {
   "cell_type": "code",
   "execution_count": 16,
   "metadata": {},
   "outputs": [
    {
     "data": {
      "text/plain": [
       "datetime.datetime(2019, 8, 1, 0, 20, 12, 154164)"
      ]
     },
     "execution_count": 16,
     "metadata": {},
     "output_type": "execute_result"
    }
   ],
   "source": [
    "# 5 days before current time:\n",
    "datetime.today() + timedelta(days=-5)"
   ]
  },
  {
   "cell_type": "markdown",
   "metadata": {},
   "source": [
    "## DATAFRAME"
   ]
  },
  {
   "cell_type": "markdown",
   "metadata": {},
   "source": [
    "### Index"
   ]
  },
  {
   "cell_type": "code",
   "execution_count": 17,
   "metadata": {},
   "outputs": [
    {
     "data": {
      "text/html": [
       "<div>\n",
       "<style scoped>\n",
       "    .dataframe tbody tr th:only-of-type {\n",
       "        vertical-align: middle;\n",
       "    }\n",
       "\n",
       "    .dataframe tbody tr th {\n",
       "        vertical-align: top;\n",
       "    }\n",
       "\n",
       "    .dataframe thead th {\n",
       "        text-align: right;\n",
       "    }\n",
       "</style>\n",
       "<table border=\"1\" class=\"dataframe\">\n",
       "  <thead>\n",
       "    <tr style=\"text-align: right;\">\n",
       "      <th></th>\n",
       "      <th></th>\n",
       "      <th>Item Purchased</th>\n",
       "      <th>Cost</th>\n",
       "    </tr>\n",
       "    <tr>\n",
       "      <th>Location</th>\n",
       "      <th>Name</th>\n",
       "      <th></th>\n",
       "      <th></th>\n",
       "    </tr>\n",
       "  </thead>\n",
       "  <tbody>\n",
       "    <tr>\n",
       "      <th rowspan=\"2\" valign=\"top\">Store 1</th>\n",
       "      <th>Chris</th>\n",
       "      <td>Dog Food</td>\n",
       "      <td>22.5</td>\n",
       "    </tr>\n",
       "    <tr>\n",
       "      <th>Kevyn</th>\n",
       "      <td>Kitty Litter</td>\n",
       "      <td>2.5</td>\n",
       "    </tr>\n",
       "    <tr>\n",
       "      <th rowspan=\"2\" valign=\"top\">Store 2</th>\n",
       "      <th>Vinod</th>\n",
       "      <td>Bird Seed</td>\n",
       "      <td>5.0</td>\n",
       "    </tr>\n",
       "    <tr>\n",
       "      <th>Kevyn</th>\n",
       "      <td>Kitty Food</td>\n",
       "      <td>3.0</td>\n",
       "    </tr>\n",
       "  </tbody>\n",
       "</table>\n",
       "</div>"
      ],
      "text/plain": [
       "               Item Purchased  Cost\n",
       "Location Name                      \n",
       "Store 1  Chris       Dog Food  22.5\n",
       "         Kevyn   Kitty Litter   2.5\n",
       "Store 2  Vinod      Bird Seed   5.0\n",
       "         Kevyn     Kitty Food   3.0"
      ]
     },
     "execution_count": 17,
     "metadata": {},
     "output_type": "execute_result"
    }
   ],
   "source": [
    "# SET MULTI-LEVEL INDEXING\n",
    "\n",
    "import pandas as pd\n",
    "\n",
    "purchase_1 = pd.Series({'Name': 'Chris',\n",
    "                        'Item Purchased': 'Dog Food',\n",
    "                        'Cost': 22.50})\n",
    "purchase_2 = pd.Series({'Name': 'Kevyn',\n",
    "                        'Item Purchased': 'Kitty Litter',\n",
    "                        'Cost': 2.50})\n",
    "purchase_3 = pd.Series({'Name': 'Vinod',\n",
    "                        'Item Purchased': 'Bird Seed',\n",
    "                        'Cost': 5.00})\n",
    "\n",
    "df = pd.DataFrame([purchase_1, purchase_2, purchase_3], index=['Store 1', 'Store 1', 'Store 2'])\n",
    "\n",
    "# Set multi-level index\n",
    "df = df.set_index([df.index, 'Name'])\n",
    "\n",
    "# Rename the index\n",
    "df.index.names = ['Location', 'Name']\n",
    "\n",
    "# Demonstrate adding record\n",
    "df = df.append(pd.Series(data={'Cost': 3.00, 'Item Purchased': 'Kitty Food'}, name=('Store 2', 'Kevyn')))\n",
    "df\n"
   ]
  },
  {
   "cell_type": "code",
   "execution_count": 20,
   "metadata": {},
   "outputs": [
    {
     "data": {
      "text/plain": [
       "Item Purchased    Dog Food\n",
       "Cost                  22.5\n",
       "Name: (Store 1, Chris), dtype: object"
      ]
     },
     "execution_count": 20,
     "metadata": {},
     "output_type": "execute_result"
    }
   ],
   "source": [
    "df.loc['Store 1','Chris']"
   ]
  },
  {
   "cell_type": "markdown",
   "metadata": {},
   "source": [
    "### Index of Maximum value in a column"
   ]
  },
  {
   "cell_type": "code",
   "execution_count": null,
   "metadata": {},
   "outputs": [],
   "source": [
    "df['col'].idxmax()"
   ]
  },
  {
   "cell_type": "markdown",
   "metadata": {},
   "source": [
    "### Method Chaining\n",
    "\n",
    "https://tomaugspurger.github.io/method-chaining.html\n",
    "\n",
    "https://www.datacamp.com/community/tutorials/pandas-idiomatic\n",
    "\n",
    "https://towardsdatascience.com/the-unreasonable-effectiveness-of-method-chaining-in-pandas-15c2109e3c69\n",
    "\n",
    "<p>Method chaining, where you call methods on an object one after another, is in vogue at the moment.\n",
    "It's always been a style of programming that's been possible with pandas,\n",
    "and over the past several releases, we've added methods that enable even more chaining.</p>\n",
    "\n",
    "<ul>\n",
    "<li><a href=\"http://pandas.pydata.org/pandas-docs/stable/generated/pandas.DataFrame.assign.html\">assign</a> (0.16.0): For adding new columns to a DataFrame in a chain (inspired by dplyr's <code>mutate</code>)</li>\n",
    "<li><a href=\"http://pandas.pydata.org/pandas-docs/stable/generated/pandas.DataFrame.pipe.html\">pipe</a> (0.16.2): For including user-defined methods in method chains.</li>\n",
    "<li><a href=\"http://pandas.pydata.org/pandas-docs/version/0.18.0/whatsnew.html#changes-to-rename\">rename</a> (0.18.0): For altering axis names (in additional to changing the actual labels as before).</li>\n",
    "<li><a href=\"http://pandas.pydata.org/pandas-docs/version/0.18.0/whatsnew.html#window-functions-are-now-methods\">Window methods</a> (0.18): Took the top-level <code>pd.rolling_*</code> and <code>pd.expanding_*</code> functions and made them <code>NDFrame</code> methods with a <code>groupby</code>-like API.</li>\n",
    "<li><a href=\"http://pandas.pydata.org/pandas-docs/version/0.18.0/whatsnew.html#resample-api\">Resample</a> (0.18.0) Added a new <code>groupby</code>-like API</li>\n",
    "<li><a href=\"https://github.com/pydata/pandas/pull/12539\">.where/mask/Indexers accept Callables</a> (0.18.1): In the next release you'll be able to pass a callable to the indexing methods, to be evaluated within the DataFrame's context (like <code>.query</code>, but with code instead of strings).</li>\n",
    "</ul>\n",
    "<p>My scripts will typically start off with large-ish chain at the start getting things into a manageable state.\n",
    "It's good to have the bulk of your munging done with right away so you can start to do Science™:</p>"
   ]
  },
  {
   "cell_type": "code",
   "execution_count": null,
   "metadata": {},
   "outputs": [],
   "source": [
    "\n",
    "(\n",
    "census_df.query(\"SUMLEV ==50\") # Get State level summary\n",
    "         .sort_values(['CENSUS2010POP'], ascending = False) # Sort each county by population desc\n",
    "         .groupby('STNAME') # Group by State name to get the top 3 counties\n",
    "         .head(3)\n",
    "         .groupby('STNAME') # Group by State name to get total population of each State by the top 3 counties\n",
    "         .sum()\n",
    "         .sort_values(['CENSUS2010POP'], ascending = False) # Order state by population\n",
    "         .head(3)\n",
    "         .index # Return the name of the states (as the index now)\n",
    ")"
   ]
  },
  {
   "cell_type": "code",
   "execution_count": null,
   "metadata": {},
   "outputs": [],
   "source": [
    "# For this example, note the `assign` function and `filter` function\n",
    "# assign to create new column\n",
    "# filter in this case to select specific columns\n",
    "\n",
    "pop_cols = ['POPESTIMATE2010','POPESTIMATE2011','POPESTIMATE2012'\n",
    "            ,'POPESTIMATE2013','POPESTIMATE2014','POPESTIMATE2015']\n",
    "county = (census_df.query(\"SUMLEV ==50\") # Filter for county summary\n",
    "                 .set_index(['CTYNAME']) # Set county name as index\n",
    "                 .filter(pop_cols) # Filter the dataframe to only population records\n",
    "                 .assign(min_pop = lambda r: r.min(axis=1) # Calc min population column\n",
    "                        ,max_pop = lambda r: r.max(axis=1))# Calc max population column\n",
    "                 .assign(pop_change = lambda r: r['max_pop'] - r['min_pop'])\n",
    "                 .filter(['pop_change'])\n",
    "                 .idxmax()\n",
    "            )[0]"
   ]
  },
  {
   "cell_type": "markdown",
   "metadata": {},
   "source": [
    "### Apply"
   ]
  },
  {
   "cell_type": "code",
   "execution_count": 35,
   "metadata": {},
   "outputs": [
    {
     "data": {
      "text/html": [
       "<div>\n",
       "<style scoped>\n",
       "    .dataframe tbody tr th:only-of-type {\n",
       "        vertical-align: middle;\n",
       "    }\n",
       "\n",
       "    .dataframe tbody tr th {\n",
       "        vertical-align: top;\n",
       "    }\n",
       "\n",
       "    .dataframe thead th {\n",
       "        text-align: right;\n",
       "    }\n",
       "</style>\n",
       "<table border=\"1\" class=\"dataframe\">\n",
       "  <thead>\n",
       "    <tr style=\"text-align: right;\">\n",
       "      <th></th>\n",
       "      <th>min</th>\n",
       "      <th>max</th>\n",
       "    </tr>\n",
       "  </thead>\n",
       "  <tbody>\n",
       "    <tr>\n",
       "      <th>0</th>\n",
       "      <td>3.5</td>\n",
       "      <td>5.1</td>\n",
       "    </tr>\n",
       "    <tr>\n",
       "      <th>1</th>\n",
       "      <td>3.0</td>\n",
       "      <td>4.9</td>\n",
       "    </tr>\n",
       "    <tr>\n",
       "      <th>2</th>\n",
       "      <td>3.2</td>\n",
       "      <td>4.7</td>\n",
       "    </tr>\n",
       "    <tr>\n",
       "      <th>3</th>\n",
       "      <td>3.1</td>\n",
       "      <td>4.6</td>\n",
       "    </tr>\n",
       "    <tr>\n",
       "      <th>4</th>\n",
       "      <td>3.6</td>\n",
       "      <td>5.0</td>\n",
       "    </tr>\n",
       "  </tbody>\n",
       "</table>\n",
       "</div>"
      ],
      "text/plain": [
       "   min  max\n",
       "0  3.5  5.1\n",
       "1  3.0  4.9\n",
       "2  3.2  4.7\n",
       "3  3.1  4.6\n",
       "4  3.6  5.0"
      ]
     },
     "execution_count": 35,
     "metadata": {},
     "output_type": "execute_result"
    }
   ],
   "source": [
    "# This demonstrate the apply function for row wise calculation\n",
    "\n",
    "import numpy as np\n",
    "import seaborn as sns\n",
    "\n",
    "df = sns.load_dataset('iris')\n",
    "\n",
    "def min_max(row):\n",
    "    data = row[['sepal_length', 'sepal_width']] \n",
    "    return pd.Series({'min':np.min(data), 'max':np.max(data)})\n",
    "\n",
    "df.apply(min_max, axis=1).head() # Note the axis=1 for row"
   ]
  },
  {
   "cell_type": "markdown",
   "metadata": {},
   "source": [
    "### Groupby"
   ]
  },
  {
   "cell_type": "code",
   "execution_count": 42,
   "metadata": {},
   "outputs": [
    {
     "name": "stdout",
     "output_type": "stream",
     "text": [
      "   year     month  passengers\n",
      "0  1949   January         112\n",
      "1  1949  February         118\n",
      "2  1949     March         132\n",
      "3  1949     April         129\n",
      "4  1949       May         121\n",
      "1949 - average passenders num: 126.66666666666667\n",
      "1950 - average passenders num: 139.66666666666666\n",
      "1951 - average passenders num: 170.16666666666666\n",
      "1952 - average passenders num: 197.0\n",
      "1953 - average passenders num: 225.0\n",
      "1954 - average passenders num: 238.91666666666666\n",
      "1955 - average passenders num: 284.0\n",
      "1956 - average passenders num: 328.25\n",
      "1957 - average passenders num: 368.4166666666667\n",
      "1958 - average passenders num: 381.0\n",
      "1959 - average passenders num: 428.3333333333333\n",
      "1960 - average passenders num: 476.1666666666667\n"
     ]
    }
   ],
   "source": [
    "\n",
    "# Loop with groupby:\n",
    "\n",
    "df = sns.load_dataset('flights')\n",
    "print(df.head())\n",
    "\n",
    "for group, frame in df.groupby('year'):\n",
    "    avg = np.average(frame['passengers'])\n",
    "    print(f'{group} - average passenders num: {avg}')"
   ]
  },
  {
   "cell_type": "code",
   "execution_count": 45,
   "metadata": {},
   "outputs": [
    {
     "data": {
      "text/html": [
       "<div>\n",
       "<style scoped>\n",
       "    .dataframe tbody tr th:only-of-type {\n",
       "        vertical-align: middle;\n",
       "    }\n",
       "\n",
       "    .dataframe tbody tr th {\n",
       "        vertical-align: top;\n",
       "    }\n",
       "\n",
       "    .dataframe thead th {\n",
       "        text-align: right;\n",
       "    }\n",
       "</style>\n",
       "<table border=\"1\" class=\"dataframe\">\n",
       "  <thead>\n",
       "    <tr style=\"text-align: right;\">\n",
       "      <th></th>\n",
       "      <th>passengers</th>\n",
       "    </tr>\n",
       "    <tr>\n",
       "      <th>year</th>\n",
       "      <th></th>\n",
       "    </tr>\n",
       "  </thead>\n",
       "  <tbody>\n",
       "    <tr>\n",
       "      <th>1949</th>\n",
       "      <td>126.666667</td>\n",
       "    </tr>\n",
       "    <tr>\n",
       "      <th>1950</th>\n",
       "      <td>139.666667</td>\n",
       "    </tr>\n",
       "    <tr>\n",
       "      <th>1951</th>\n",
       "      <td>170.166667</td>\n",
       "    </tr>\n",
       "    <tr>\n",
       "      <th>1952</th>\n",
       "      <td>197.000000</td>\n",
       "    </tr>\n",
       "    <tr>\n",
       "      <th>1953</th>\n",
       "      <td>225.000000</td>\n",
       "    </tr>\n",
       "    <tr>\n",
       "      <th>1954</th>\n",
       "      <td>238.916667</td>\n",
       "    </tr>\n",
       "    <tr>\n",
       "      <th>1955</th>\n",
       "      <td>284.000000</td>\n",
       "    </tr>\n",
       "    <tr>\n",
       "      <th>1956</th>\n",
       "      <td>328.250000</td>\n",
       "    </tr>\n",
       "    <tr>\n",
       "      <th>1957</th>\n",
       "      <td>368.416667</td>\n",
       "    </tr>\n",
       "    <tr>\n",
       "      <th>1958</th>\n",
       "      <td>381.000000</td>\n",
       "    </tr>\n",
       "    <tr>\n",
       "      <th>1959</th>\n",
       "      <td>428.333333</td>\n",
       "    </tr>\n",
       "    <tr>\n",
       "      <th>1960</th>\n",
       "      <td>476.166667</td>\n",
       "    </tr>\n",
       "  </tbody>\n",
       "</table>\n",
       "</div>"
      ],
      "text/plain": [
       "      passengers\n",
       "year            \n",
       "1949  126.666667\n",
       "1950  139.666667\n",
       "1951  170.166667\n",
       "1952  197.000000\n",
       "1953  225.000000\n",
       "1954  238.916667\n",
       "1955  284.000000\n",
       "1956  328.250000\n",
       "1957  368.416667\n",
       "1958  381.000000\n",
       "1959  428.333333\n",
       "1960  476.166667"
      ]
     },
     "execution_count": 45,
     "metadata": {},
     "output_type": "execute_result"
    }
   ],
   "source": [
    "df.groupby('year').mean()"
   ]
  },
  {
   "cell_type": "code",
   "execution_count": 79,
   "metadata": {},
   "outputs": [],
   "source": [
    "# You can pass a function to groupby:\n",
    "# Need example here\n",
    "\n"
   ]
  },
  {
   "cell_type": "code",
   "execution_count": 81,
   "metadata": {},
   "outputs": [
    {
     "data": {
      "text/html": [
       "<div>\n",
       "<style scoped>\n",
       "    .dataframe tbody tr th:only-of-type {\n",
       "        vertical-align: middle;\n",
       "    }\n",
       "\n",
       "    .dataframe tbody tr th {\n",
       "        vertical-align: top;\n",
       "    }\n",
       "\n",
       "    .dataframe thead th {\n",
       "        text-align: right;\n",
       "    }\n",
       "</style>\n",
       "<table border=\"1\" class=\"dataframe\">\n",
       "  <thead>\n",
       "    <tr style=\"text-align: right;\">\n",
       "      <th></th>\n",
       "      <th>passengers</th>\n",
       "    </tr>\n",
       "    <tr>\n",
       "      <th>year</th>\n",
       "      <th></th>\n",
       "    </tr>\n",
       "  </thead>\n",
       "  <tbody>\n",
       "    <tr>\n",
       "      <th>1949</th>\n",
       "      <td>1520</td>\n",
       "    </tr>\n",
       "    <tr>\n",
       "      <th>1950</th>\n",
       "      <td>1676</td>\n",
       "    </tr>\n",
       "    <tr>\n",
       "      <th>1951</th>\n",
       "      <td>2042</td>\n",
       "    </tr>\n",
       "    <tr>\n",
       "      <th>1952</th>\n",
       "      <td>2364</td>\n",
       "    </tr>\n",
       "    <tr>\n",
       "      <th>1953</th>\n",
       "      <td>2700</td>\n",
       "    </tr>\n",
       "    <tr>\n",
       "      <th>1954</th>\n",
       "      <td>2867</td>\n",
       "    </tr>\n",
       "    <tr>\n",
       "      <th>1955</th>\n",
       "      <td>3408</td>\n",
       "    </tr>\n",
       "    <tr>\n",
       "      <th>1956</th>\n",
       "      <td>3939</td>\n",
       "    </tr>\n",
       "    <tr>\n",
       "      <th>1957</th>\n",
       "      <td>4421</td>\n",
       "    </tr>\n",
       "    <tr>\n",
       "      <th>1958</th>\n",
       "      <td>4572</td>\n",
       "    </tr>\n",
       "    <tr>\n",
       "      <th>1959</th>\n",
       "      <td>5140</td>\n",
       "    </tr>\n",
       "    <tr>\n",
       "      <th>1960</th>\n",
       "      <td>5714</td>\n",
       "    </tr>\n",
       "  </tbody>\n",
       "</table>\n",
       "</div>"
      ],
      "text/plain": [
       "      passengers\n",
       "year            \n",
       "1949        1520\n",
       "1950        1676\n",
       "1951        2042\n",
       "1952        2364\n",
       "1953        2700\n",
       "1954        2867\n",
       "1955        3408\n",
       "1956        3939\n",
       "1957        4421\n",
       "1958        4572\n",
       "1959        5140\n",
       "1960        5714"
      ]
     },
     "execution_count": 81,
     "metadata": {},
     "output_type": "execute_result"
    }
   ],
   "source": [
    "# Group by and aggregation function:\n",
    "\n",
    "\n",
    "df = sns.load_dataset('flights')\n",
    "df.groupby('year').agg({'passengers':np.sum})"
   ]
  },
  {
   "cell_type": "code",
   "execution_count": null,
   "metadata": {},
   "outputs": [],
   "source": [
    "#                        Category  Quantity  Weight (oz.)\n",
    "# Item                                                   \n",
    "# Pack                       Pack         1          33.0\n",
    "# Tent                    Shelter         1          80.0\n",
    "# Sleeping Pad              Sleep         1          27.0\n",
    "# Sleeping Bag              Sleep         1          20.0\n",
    "# Toothbrush/Toothpaste    Health         1           2.0\n",
    "# Sunscreen                Health         1           5.0\n",
    "# Medical Kit              Health         1           3.7\n",
    "# Spoon                   Kitchen         1           0.7\n",
    "# Stove                   Kitchen         1          20.0\n",
    "# Water Filter            Kitchen         1           1.8\n",
    "# Water Bottles           Kitchen         2          35.0\n",
    "# Pack Liner              Utility         1           1.0\n",
    "# Stuff Sack              Utility         1           1.0\n",
    "# Trekking Poles          Utility         1          16.0\n",
    "# Rain Poncho            Clothing         1           6.0\n",
    "# Shoes                  Clothing         1          12.0\n",
    "# Hat                    Clothing         1           2.5\n",
    "\n",
    "df.groupby('Category').apply(lambda df,a,b: sum(df[a] * df[b]), 'Weight (oz.)', 'Quantity')\n",
    "\n",
    "# First method:\n",
    "# Your code here\n",
    "df['total weight'] = df['Quantity'] * df['Weight (oz.)']\n",
    "\n",
    "df.groupby('Category').agg({'total weight':np.sum})\n",
    "\n",
    "# Second Method using lambda function:\n",
    "df.groupby('Category').apply(lambda df,a,b: sum(df[a] * df[b]), 'Weight (oz.)', 'Quantity')"
   ]
  },
  {
   "cell_type": "code",
   "execution_count": 86,
   "metadata": {},
   "outputs": [
    {
     "name": "stderr",
     "output_type": "stream",
     "text": [
      "/anaconda3/lib/python3.7/site-packages/ipykernel_launcher.py:7: FutureWarning: using a dict on a Series for aggregation\n",
      "is deprecated and will be removed in a future version\n",
      "  import sys\n"
     ]
    },
    {
     "data": {
      "text/html": [
       "<div>\n",
       "<style scoped>\n",
       "    .dataframe tbody tr th:only-of-type {\n",
       "        vertical-align: middle;\n",
       "    }\n",
       "\n",
       "    .dataframe tbody tr th {\n",
       "        vertical-align: top;\n",
       "    }\n",
       "\n",
       "    .dataframe thead th {\n",
       "        text-align: right;\n",
       "    }\n",
       "</style>\n",
       "<table border=\"1\" class=\"dataframe\">\n",
       "  <thead>\n",
       "    <tr style=\"text-align: right;\">\n",
       "      <th></th>\n",
       "      <th>avg_carat</th>\n",
       "      <th>min_carat</th>\n",
       "    </tr>\n",
       "    <tr>\n",
       "      <th>cut</th>\n",
       "      <th></th>\n",
       "      <th></th>\n",
       "    </tr>\n",
       "  </thead>\n",
       "  <tbody>\n",
       "    <tr>\n",
       "      <th>Fair</th>\n",
       "      <td>1.046137</td>\n",
       "      <td>1.046137</td>\n",
       "    </tr>\n",
       "    <tr>\n",
       "      <th>Good</th>\n",
       "      <td>0.849185</td>\n",
       "      <td>0.849185</td>\n",
       "    </tr>\n",
       "    <tr>\n",
       "      <th>Ideal</th>\n",
       "      <td>0.702837</td>\n",
       "      <td>0.702837</td>\n",
       "    </tr>\n",
       "    <tr>\n",
       "      <th>Premium</th>\n",
       "      <td>0.891955</td>\n",
       "      <td>0.891955</td>\n",
       "    </tr>\n",
       "    <tr>\n",
       "      <th>Very Good</th>\n",
       "      <td>0.806381</td>\n",
       "      <td>0.806381</td>\n",
       "    </tr>\n",
       "  </tbody>\n",
       "</table>\n",
       "</div>"
      ],
      "text/plain": [
       "           avg_carat  min_carat\n",
       "cut                            \n",
       "Fair        1.046137   1.046137\n",
       "Good        0.849185   0.849185\n",
       "Ideal       0.702837   0.702837\n",
       "Premium     0.891955   0.891955\n",
       "Very Good   0.806381   0.806381"
      ]
     },
     "execution_count": 86,
     "metadata": {},
     "output_type": "execute_result"
    }
   ],
   "source": [
    "df = sns.load_dataset('diamonds')\n",
    "\n",
    "# Group by using multiple aggregation on 1 column input. \n",
    "# This is series group by\n",
    "(\n",
    "    df.set_index('cut')\n",
    "    .groupby(level=0)\n",
    "    ['carat']\n",
    "    .agg({'avg_carat':np.average, 'min_carat':np.mean})\n",
    ")"
   ]
  },
  {
   "cell_type": "code",
   "execution_count": 88,
   "metadata": {},
   "outputs": [
    {
     "name": "stderr",
     "output_type": "stream",
     "text": [
      "/anaconda3/lib/python3.7/site-packages/pandas/core/groupby/groupby.py:4656: FutureWarning: using a dict with renaming is deprecated and will be removed in a future version\n",
      "  return super(DataFrameGroupBy, self).aggregate(arg, *args, **kwargs)\n"
     ]
    },
    {
     "data": {
      "text/html": [
       "<div>\n",
       "<style scoped>\n",
       "    .dataframe tbody tr th:only-of-type {\n",
       "        vertical-align: middle;\n",
       "    }\n",
       "\n",
       "    .dataframe tbody tr th {\n",
       "        vertical-align: top;\n",
       "    }\n",
       "\n",
       "    .dataframe thead tr th {\n",
       "        text-align: left;\n",
       "    }\n",
       "\n",
       "    .dataframe thead tr:last-of-type th {\n",
       "        text-align: right;\n",
       "    }\n",
       "</style>\n",
       "<table border=\"1\" class=\"dataframe\">\n",
       "  <thead>\n",
       "    <tr>\n",
       "      <th></th>\n",
       "      <th colspan=\"2\" halign=\"left\">avg</th>\n",
       "      <th colspan=\"2\" halign=\"left\">min</th>\n",
       "    </tr>\n",
       "    <tr>\n",
       "      <th></th>\n",
       "      <th>carat</th>\n",
       "      <th>price</th>\n",
       "      <th>carat</th>\n",
       "      <th>price</th>\n",
       "    </tr>\n",
       "    <tr>\n",
       "      <th>cut</th>\n",
       "      <th></th>\n",
       "      <th></th>\n",
       "      <th></th>\n",
       "      <th></th>\n",
       "    </tr>\n",
       "  </thead>\n",
       "  <tbody>\n",
       "    <tr>\n",
       "      <th>Fair</th>\n",
       "      <td>1.046137</td>\n",
       "      <td>4358.757764</td>\n",
       "      <td>1.046137</td>\n",
       "      <td>4358.757764</td>\n",
       "    </tr>\n",
       "    <tr>\n",
       "      <th>Good</th>\n",
       "      <td>0.849185</td>\n",
       "      <td>3928.864452</td>\n",
       "      <td>0.849185</td>\n",
       "      <td>3928.864452</td>\n",
       "    </tr>\n",
       "    <tr>\n",
       "      <th>Ideal</th>\n",
       "      <td>0.702837</td>\n",
       "      <td>3457.541970</td>\n",
       "      <td>0.702837</td>\n",
       "      <td>3457.541970</td>\n",
       "    </tr>\n",
       "    <tr>\n",
       "      <th>Premium</th>\n",
       "      <td>0.891955</td>\n",
       "      <td>4584.257704</td>\n",
       "      <td>0.891955</td>\n",
       "      <td>4584.257704</td>\n",
       "    </tr>\n",
       "    <tr>\n",
       "      <th>Very Good</th>\n",
       "      <td>0.806381</td>\n",
       "      <td>3981.759891</td>\n",
       "      <td>0.806381</td>\n",
       "      <td>3981.759891</td>\n",
       "    </tr>\n",
       "  </tbody>\n",
       "</table>\n",
       "</div>"
      ],
      "text/plain": [
       "                avg                    min             \n",
       "              carat        price     carat        price\n",
       "cut                                                    \n",
       "Fair       1.046137  4358.757764  1.046137  4358.757764\n",
       "Good       0.849185  3928.864452  0.849185  3928.864452\n",
       "Ideal      0.702837  3457.541970  0.702837  3457.541970\n",
       "Premium    0.891955  4584.257704  0.891955  4584.257704\n",
       "Very Good  0.806381  3981.759891  0.806381  3981.759891"
      ]
     },
     "execution_count": 88,
     "metadata": {},
     "output_type": "execute_result"
    }
   ],
   "source": [
    "# Group by using multiple aggregation on 1 column input\n",
    "# This is dataframe group by\n",
    "(\n",
    "    df.set_index('cut')\n",
    "    .groupby(level=0)\n",
    "    [['carat','price']]\n",
    "    .agg({'avg':np.average, 'min':np.mean})\n",
    ")"
   ]
  },
  {
   "cell_type": "code",
   "execution_count": null,
   "metadata": {},
   "outputs": [],
   "source": []
  }
 ],
 "metadata": {
  "kernelspec": {
   "display_name": "Python 3",
   "language": "python",
   "name": "python3"
  },
  "language_info": {
   "codemirror_mode": {
    "name": "ipython",
    "version": 3
   },
   "file_extension": ".py",
   "mimetype": "text/x-python",
   "name": "python",
   "nbconvert_exporter": "python",
   "pygments_lexer": "ipython3",
   "version": "3.7.1"
  }
 },
 "nbformat": 4,
 "nbformat_minor": 2
}
